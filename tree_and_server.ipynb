{
 "cells": [
  {
   "cell_type": "markdown",
   "id": "a01d785a",
   "metadata": {},
   "source": [
    "*Openstreetmap new tag recommendations*"
   ]
  },
  {
   "cell_type": "markdown",
   "id": "ed2f89e0",
   "metadata": {},
   "source": [
    "possible improvements:    \n",
    "-   use library pyrosm (https://pyrosm.readthedocs.io/en/latest/)    \n",
    "-   write the results of queries into a file (results.json or smth) instead of just printing      \n",
    "-   create a function that takes lines from the tsv file and deletes tags for use of evaluation     \n",
    "-   create a function that takes as input an evaluation set (list of lists of strings) and just runs all the queries together    \n",
    "\n",
    "Ideas for RQ or topics:\n"
   ]
  },
  {
   "cell_type": "code",
   "execution_count": 2,
   "id": "66be8143",
   "metadata": {},
   "outputs": [],
   "source": [
    "import osmium\n",
    "import csv\n",
    "import subprocess\n",
    "import time\n",
    "import pickle"
   ]
  },
  {
   "cell_type": "markdown",
   "id": "7378d8f5",
   "metadata": {},
   "source": [
    "The function convert_tsv takes the path to a .osm.pbf file with geodata and will convert it into a tsv file (called filename) usable for the recommenderserver.\n",
    "It uses osmium to open it, then takes all the points with tags and adds the tags in a new line."
   ]
  },
  {
   "cell_type": "code",
   "execution_count": 11,
   "id": "d9f6d2e0",
   "metadata": {},
   "outputs": [],
   "source": [
    "def convert_tsv(path: str, filename: str):\n",
    "    \"\"\"\n",
    "    Converts a .osm.pbf file with geodata from osm to a tsv file usable for RecommenderServer\n",
    "    \"\"\"\n",
    "    with open(filename, \"w\") as tsvfile:\n",
    "        tsv_writer = csv.writer(tsvfile, delimiter='\\t')\n",
    "        \n",
    "\n",
    "        for obj in osmium.FileProcessor(path):\n",
    "            if len(obj.tags) > 0:\n",
    "                object = []\n",
    "                for i in obj.tags:\n",
    "                    i = str(i).split(\"=\")\n",
    "                    object.append(i[0])\n",
    "                tsv_writer.writerow(object)\n",
    "        \n",
    "        tsvfile.close()"
   ]
  },
  {
   "cell_type": "markdown",
   "id": "ad16d9b1",
   "metadata": {},
   "source": [
    "The function create_tree calls convert_tsv to create a tsv, then runs the recommenderserver build-tree command to build a tree from that."
   ]
  },
  {
   "cell_type": "code",
   "execution_count": 9,
   "id": "1608bdd9",
   "metadata": {},
   "outputs": [],
   "source": [
    "def create_tree(path_to_source_file: str, tsvfilename: str, path_to_server_dir: str):\n",
    "    \"\"\"\n",
    "    Calls convert_tsv and and then creates a tree with it\n",
    "    \"\"\"\n",
    "    convert_tsv(path_to_source_file, tsvfilename)\n",
    "    result = subprocess.run(['cmd', '/c', 'cd'], capture_output=True, text=True)\n",
    "    subprocess.run(['RecommenderServer', 'build-tree', 'from-tsv', result.stdout.strip() + '/' + tsvfilename], cwd= path_to_server_dir)\n",
    "\n",
    "def create_tree_train_set(training_set:dict, tsvfilename:str, path_to_server_dir: str):\n",
    "    \"\"\"\n",
    "    Converts to tsv and creates a tree\n",
    "    Takes as input a pois[\"tags\"] column of a pandas geodata object\n",
    "    Meant for use in final experiments\n",
    "    \"\"\"\n",
    "    \n",
    "    with open(tsvfilename, \"w\") as tsvfile:\n",
    "        tsv_writer = csv.writer(tsvfile, delimiter='\\t')\n",
    "        for obj in training_set:\n",
    "            listed = list(obj.keys())\n",
    "            if len(listed) > 0:\n",
    "                tsv_writer.writerow(listed)\n",
    "        \n",
    "        tsvfile.close()\n",
    "    result = subprocess.run(['cmd', '/c', 'cd'], capture_output=True, text=True)\n",
    "    subprocess.run(['RecommenderServer', 'build-tree', 'from-tsv', result.stdout.strip() + '/' + tsvfilename], cwd= path_to_server_dir)\n"
   ]
  },
  {
   "cell_type": "markdown",
   "id": "1f00d393",
   "metadata": {},
   "source": [
    "The query function will query a recommender tree that was already created from file filename, and in the recommenderserver directory path_to_server_dir. It will query a list of properties, and print the n most probable recommendations"
   ]
  },
  {
   "cell_type": "code",
   "execution_count": 12,
   "id": "2f68a258",
   "metadata": {},
   "outputs": [],
   "source": [
    "def query(tsvfilename: str, path_to_server_dir: str, property_list: list[str], n:int = 1):\n",
    "    \"\"\"\n",
    "    Opens a recommenderserver and queries it with a property list. \n",
    "    n: number of recommendations to print\n",
    "    \"\"\"\n",
    "    open_server = subprocess.Popen(['RecommenderServer', 'serve', tsvfilename + '.schemaTree.typed.pb'], cwd= path_to_server_dir)\n",
    "    time.sleep(1)\n",
    "    powershell_command = \"\"\"\n",
    "    $body = '{\"properties\": \"\"\" + property_list + \"\"\",\"types\":[]}'\n",
    "    $response = Invoke-WebRequest -Uri \"http://localhost:8080/recommender\" -Method POST -Body $body -ContentType \"application/json\"\n",
    "    $response.Content\n",
    "    \"\"\"\n",
    "    result = subprocess.run([\"powershell\", \"-Command\", powershell_command], capture_output=True, text=True)\n",
    "        \n",
    "    output_string = result.stdout\n",
    "    recommendations_list = output_string.split(\"{\")\n",
    "    for i in recommendations_list[2:n+2]:\n",
    "        # A possible improvement is to not print, but store it (perhaps write it in a file)\n",
    "        print(i)\n",
    "    \n",
    "    open_server.terminate()\n"
   ]
  },
  {
   "cell_type": "code",
   "execution_count": 43,
   "id": "6e5a57f4",
   "metadata": {},
   "outputs": [],
   "source": [
    "def multiquery(tsvfilename: str, path_to_server_dir: str, query_list: list[list[str]], n:int = 1) -> list[str]:\n",
    "    \"\"\"\n",
    "    Opens a server and queries it multiple times without closing the server\n",
    "    Stores the query results in order\n",
    "    This function in its current form only works for n = 1 (if it only takes the first and most likely response)\n",
    "    \"\"\"\n",
    "\n",
    "    open_server = subprocess.Popen(['RecommenderServer', 'serve', tsvfilename + '.schemaTree.typed.pb'], cwd= path_to_server_dir)\n",
    "    response_list = []\n",
    "    for property_list in query_list:\n",
    "        time.sleep(1)\n",
    "        powershell_command = \"\"\"\n",
    "        $body = '{\"properties\": \"\"\" + property_list + \"\"\",\"types\":[]}'\n",
    "        $response = Invoke-WebRequest -Uri \"http://localhost:8080/recommender\" -Method POST -Body $body -ContentType \"application/json\"\n",
    "        $response.Content\n",
    "        \"\"\"\n",
    "        result = subprocess.run([\"powershell\", \"-Command\", powershell_command], capture_output=True, text=True)\n",
    "            \n",
    "        output_string = result.stdout\n",
    "        recommendations_list = output_string.split(\"{\")\n",
    "        for i in recommendations_list[2:n+2]:\n",
    "            print(\"Querying\", i)\n",
    "            response_list.append(i)\n",
    "    \n",
    "    open_server.terminate()\n",
    "    \n",
    "    return response_list\n"
   ]
  },
  {
   "cell_type": "markdown",
   "id": "1bcff409",
   "metadata": {},
   "source": [
    "Testing the code and running early experiments"
   ]
  },
  {
   "cell_type": "code",
   "execution_count": 27,
   "id": "4cd2aaf0",
   "metadata": {},
   "outputs": [],
   "source": [
    "# Change for use:\n",
    "\n",
    "# Path to a geodata file (.osm.pbf format)\n",
    "path_to_source_file = 'C:/Users/jotan/Downloads/groningen-latest.osm.pbf'    \n",
    "# What to call your file (and your tree)\n",
    "tsvfilename = \"groningen.tsv\"\n",
    "# Path to the RecommenderServer folder\n",
    "path_to_server_dir = 'C:/Users/jotan/SchoolStuffs/2024-25/BachelorProject/RecommenderServer'\n",
    "\n",
    "# For querying: must be a stringed lists of strings\n",
    "example_q1 = '[\"name\", \"traffic sign\", \"type\"]'\n",
    "example_q2 = '[\"type\"]'\n",
    "example_q3 = '[\"capacity\", \"capacity:disabled\", \"fee\", \"surface\"]'\n",
    "\n",
    "multi_q1 = [example_q1, example_q2]"
   ]
  },
  {
   "cell_type": "code",
   "execution_count": 15,
   "id": "c8131c8e",
   "metadata": {},
   "outputs": [],
   "source": [
    "create_tree(path_to_source_file, tsvfilename, path_to_server_dir)"
   ]
  },
  {
   "cell_type": "code",
   "execution_count": 44,
   "id": "1b96fd37",
   "metadata": {},
   "outputs": [
    {
     "name": "stdout",
     "output_type": "stream",
     "text": [
      "\"property\":\"operator\",\"probability\":0.4519846350832266},\n",
      "\"property\":\"network\",\"probability\":0.4014084507042254},\n",
      "\"property\":\"wikidata\",\"probability\":0.3886043533930858},\n",
      "\"property\":\"ref\",\"probability\":0.3886043533930858},\n",
      "\"property\":\"route\",\"probability\":0.3649167733674776},\n",
      "\"property\":\"ref\",\"probability\":0.43542393874563673},\n",
      "\"property\":\"network\",\"probability\":0.4324963405021957},\n",
      "\"property\":\"route\",\"probability\":0.4317081409751154},\n",
      "\"property\":\"network:type\",\"probability\":0.36223398265961043},\n",
      "\"property\":\"source\",\"probability\":0.2830762301542619},\n",
      "Querying \"property\":\"operator\",\"probability\":0.4519846350832266},\n",
      "Querying \"property\":\"ref\",\"probability\":0.43542393874563673},\n",
      "['\"property\":\"operator\",\"probability\":0.4519846350832266},', '\"property\":\"ref\",\"probability\":0.43542393874563673},']\n"
     ]
    }
   ],
   "source": [
    "query(tsvfilename, path_to_server_dir, example_q1, 5)\n",
    "query(tsvfilename, path_to_server_dir, example_q2, 5)\n",
    "\n",
    "responses = multiquery(tsvfilename, path_to_server_dir, multi_q1, 1)\n",
    "print(responses)"
   ]
  },
  {
   "cell_type": "markdown",
   "id": "83b2f33f",
   "metadata": {},
   "source": [
    "Running the experimetns"
   ]
  },
  {
   "cell_type": "code",
   "execution_count": 18,
   "id": "5af98922",
   "metadata": {},
   "outputs": [],
   "source": [
    "# Importing the training set to create the tree\n",
    "with open('trainingset', 'rb') as fp:\n",
    "    trainingloaded = pickle.load(fp)\n",
    "# And the test set for querying and answers for checking\n",
    "with open('testset_questions', 'rb') as fp:\n",
    "    questions = pickle.load(fp)\n",
    "with open('testset_answer', 'rb') as fp:\n",
    "    answers = pickle.load(fp)\n",
    "\n",
    "newtsvfilename = \"amsterdam.tsv\""
   ]
  },
  {
   "cell_type": "code",
   "execution_count": 30,
   "id": "f38b5e40",
   "metadata": {},
   "outputs": [],
   "source": [
    "create_tree_train_set(trainingloaded[\"tags\"], tsvfilename, path_to_server_dir)"
   ]
  },
  {
   "cell_type": "code",
   "execution_count": 33,
   "id": "923fafe6",
   "metadata": {},
   "outputs": [
    {
     "name": "stdout",
     "output_type": "stream",
     "text": [
      "\"property\":\"parking\",\"probability\":1},\n",
      "\"property\":\"amenity\",\"probability\":1},\n",
      "\"property\":\"access\",\"probability\":0.9705882352941176},\n",
      "\"property\":\"orientation\",\"probability\":0.8235294117647058},\n",
      "\"property\":\"supervised\",\"probability\":0.08823529411764706},\n"
     ]
    }
   ],
   "source": [
    "# Send a single query to check if the tree works\n",
    "query(tsvfilename, path_to_server_dir, example_q3, 5)"
   ]
  },
  {
   "cell_type": "code",
   "execution_count": 51,
   "id": "f9ca88d5",
   "metadata": {},
   "outputs": [
    {
     "name": "stdout",
     "output_type": "stream",
     "text": [
      "[\"['description', 'payment:coins', 'payment:contactless', 'payment:credit_cards', 'payment:maestro', 'payment:mastercard', 'source:date', 'wheelchair']\"]\n",
      "[]\n"
     ]
    }
   ],
   "source": [
    "# Creating a multiquery from our test questions set\n",
    "questions_multi = []\n",
    "for quer in questions[:10]:\n",
    "    next_quer = f'{quer}'\n",
    "    #query(tsvfilename, path_to_server_dir, next_quer)\n",
    "    questions_multi.append(next_quer)\n",
    "\n",
    "\n",
    "print(questions_multi[:1])\n",
    "results = multiquery(tsvfilename, path_to_server_dir, questions_multi, 1)\n",
    "print(results)"
   ]
  }
 ],
 "metadata": {
  "kernelspec": {
   "display_name": "base",
   "language": "python",
   "name": "python3"
  },
  "language_info": {
   "codemirror_mode": {
    "name": "ipython",
    "version": 3
   },
   "file_extension": ".py",
   "mimetype": "text/x-python",
   "name": "python",
   "nbconvert_exporter": "python",
   "pygments_lexer": "ipython3",
   "version": "3.12.3"
  }
 },
 "nbformat": 4,
 "nbformat_minor": 5
}
