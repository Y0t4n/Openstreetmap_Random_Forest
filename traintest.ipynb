{
 "cells": [
  {
   "cell_type": "code",
   "execution_count": 56,
   "id": "d537987c",
   "metadata": {},
   "outputs": [],
   "source": [
    "from pyrosm.data import sources\n",
    "import pyrosm\n",
    "from collections import Counter, defaultdict\n",
    "import json\n",
    "import pandas as pd\n",
    "import ast\n",
    "import numpy as np\n",
    "from sklearn.ensemble import RandomForestClassifier\n",
    "from sklearn.model_selection import train_test_split\n",
    "from sklearn.model_selection import RandomizedSearchCV\n",
    "from sklearn.metrics import f1_score, precision_score, recall_score, classification_report\n",
    "from skmultilearn.model_selection import iterative_train_test_split\n",
    "import pickle\n",
    "import random"
   ]
  },
  {
   "cell_type": "code",
   "execution_count": 57,
   "id": "5a4c7b28",
   "metadata": {},
   "outputs": [],
   "source": [
    "def parse_tags(val):\n",
    "    if pd.isna(val) or val in [\"None\", \"nan\", None]:\n",
    "        return {}\n",
    "    try:\n",
    "        return ast.literal_eval(val) if isinstance(val, str) else val\n",
    "    \n",
    "    except json.JSONDecodeError:\n",
    "        return {}\n",
    "\n",
    "def create_tag_lists(pois, n):\n",
    "    tag_freq = defaultdict(int)\n",
    "    #print(tag_freq)\n",
    "\n",
    "\n",
    "\n",
    "    for idx, row in pois.iterrows(): \n",
    "        tags = row.get(\"tags\", {})\n",
    "        #print(f\"Row {idx}, Tags: {tags}, Type: {type(tags)}\")  # Check type of tags\n",
    "\n",
    "        if isinstance(tags, dict) and tags:\n",
    "            for tag_key in tags:\n",
    "                tag_freq[tag_key] += 1\n",
    "\n",
    "\n",
    "    # print(tag_freq)\n",
    "    all_tags = list(tag_freq.keys())\n",
    "    all_good_tags = [tag for tag in tag_freq if tag_freq[tag] > n]\n",
    "    tag2idx = {tag: i for i, tag in enumerate(all_good_tags)}\n",
    "    idx2tag = {i: tag for tag, i in tag2idx.items()}\n",
    "\n",
    "    tag_freq = dict(sorted(tag_freq.items(), key = lambda x: x[1], reverse = True))\n",
    "    print(f\"All tags sorted by frequency: {tag_freq}\")\n",
    "    print(f\" All allowed tags: {all_good_tags}\")\n",
    "    # print(tag2idx)\n",
    "    # print(idx2tag)\n",
    "    print(f\"Len all tags: {len(all_tags)}, Len good tags: {len(all_good_tags)}\")\n",
    "    #print(\"\\n Returning (all_good_tags, tag2idx)\")\n",
    "\n",
    "\n",
    "    return (all_good_tags, tag2idx)\n",
    "\n",
    "def tags_to_vec(tag_dict, tag2idx):\n",
    "    vector = np.zeros(len(tag2idx), dtype= np.float32)\n",
    "    if isinstance(tag_dict, dict):\n",
    "        for tag in tag_dict:\n",
    "            if tag in tag2idx:\n",
    "                vector[tag2idx[tag]] = 1\n",
    "    return vector"
   ]
  },
  {
   "cell_type": "code",
   "execution_count": 58,
   "id": "5b88b887",
   "metadata": {},
   "outputs": [],
   "source": [
    "fp = pyrosm.get_data(\"Groningen\")\n",
    "osm = pyrosm.OSM(fp)\n",
    "pois = osm.get_pois()\n",
    "pois[\"tags\"] = pois[\"tags\"].apply(parse_tags) #only need to run it once"
   ]
  },
  {
   "cell_type": "code",
   "execution_count": 59,
   "id": "16db3f44",
   "metadata": {},
   "outputs": [],
   "source": [
    "# Keep only rows where 'tags' is a non-empty dictionary\n",
    "pois = pois[pois[\"tags\"].apply(lambda x: isinstance(x, dict) and len(x) > 2)]\n"
   ]
  },
  {
   "cell_type": "code",
   "execution_count": 60,
   "id": "7a087a95",
   "metadata": {},
   "outputs": [
    {
     "name": "stdout",
     "output_type": "stream",
     "text": [
      "q-a 941 941\n"
     ]
    }
   ],
   "source": [
    "final_train, final_test = train_test_split(pois, test_size=0.2)\n",
    "\n",
    "test_questions = []\n",
    "test_answers = []\n",
    "for i in final_test['tags']:\n",
    "    inew = list(i.keys())\n",
    "    idx = random.randint(0, len(inew)-1)\n",
    "    test_answers.append(inew[idx])\n",
    "    test_questions.append(inew[:idx] + inew[idx+1:])\n",
    "\n",
    "print(\"q-a\", len(test_questions), len(test_answers))\n",
    "\n",
    "with open('trainingset', 'wb') as fp:\n",
    "    pickle.dump(final_train, fp)\n",
    "with open('testset_questions', 'wb') as fb:\n",
    "    pickle.dump(test_questions, fb)\n",
    "with open('testset_answer', 'wb') as fq:\n",
    "    pickle.dump(test_answers, fq)"
   ]
  },
  {
   "cell_type": "code",
   "execution_count": 61,
   "id": "337e47e1",
   "metadata": {},
   "outputs": [
    {
     "name": "stdout",
     "output_type": "stream",
     "text": [
      "<class 'geopandas.geodataframe.GeoDataFrame'>\n",
      "<class 'pandas.core.series.Series'>\n"
     ]
    }
   ],
   "source": [
    "with open('trainingset', 'rb') as fp:\n",
    "    trainingloaded = pickle.load(fp)\n",
    "\n",
    "print(type(trainingloaded))\n",
    "print(type(pois['tags']))"
   ]
  }
 ],
 "metadata": {
  "kernelspec": {
   "display_name": "base",
   "language": "python",
   "name": "python3"
  },
  "language_info": {
   "codemirror_mode": {
    "name": "ipython",
    "version": 3
   },
   "file_extension": ".py",
   "mimetype": "text/x-python",
   "name": "python",
   "nbconvert_exporter": "python",
   "pygments_lexer": "ipython3",
   "version": "3.12.3"
  }
 },
 "nbformat": 4,
 "nbformat_minor": 5
}
