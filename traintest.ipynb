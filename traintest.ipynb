{
 "cells": [
  {
   "cell_type": "code",
   "execution_count": 1,
   "id": "d537987c",
   "metadata": {},
   "outputs": [],
   "source": [
    "from pyrosm.data import sources\n",
    "import pyrosm\n",
    "from collections import Counter, defaultdict\n",
    "import json\n",
    "import pandas as pd\n",
    "import ast\n",
    "import numpy as np\n",
    "from sklearn.model_selection import train_test_split\n",
    "import pickle\n",
    "import random"
   ]
  },
  {
   "cell_type": "code",
   "execution_count": 2,
   "id": "5a4c7b28",
   "metadata": {},
   "outputs": [],
   "source": [
    "def parse_tags(val):\n",
    "    if pd.isna(val) or val in [\"None\", \"nan\", None]:\n",
    "        return {}\n",
    "    try:\n",
    "        return ast.literal_eval(val) if isinstance(val, str) else val\n",
    "    \n",
    "    except json.JSONDecodeError:\n",
    "        return {}\n",
    "\n",
    "def create_tag_lists(pois, n):\n",
    "    tag_freq = defaultdict(int)\n",
    "    #print(tag_freq)\n",
    "\n",
    "\n",
    "\n",
    "    for idx, row in pois.iterrows(): \n",
    "        tags = row.get(\"tags\", {})\n",
    "        #print(f\"Row {idx}, Tags: {tags}, Type: {type(tags)}\")  # Check type of tags\n",
    "\n",
    "        if isinstance(tags, dict) and tags:\n",
    "            for tag_key in tags:\n",
    "                tag_freq[tag_key] += 1\n",
    "\n",
    "\n",
    "    # print(tag_freq)\n",
    "    all_tags = list(tag_freq.keys())\n",
    "    all_good_tags = [tag for tag in tag_freq if tag_freq[tag] > n]\n",
    "    tag2idx = {tag: i for i, tag in enumerate(all_good_tags)}\n",
    "    idx2tag = {i: tag for tag, i in tag2idx.items()}\n",
    "\n",
    "    tag_freq = dict(sorted(tag_freq.items(), key = lambda x: x[1], reverse = True))\n",
    "    print(f\"All tags sorted by frequency: {tag_freq}\")\n",
    "    print(f\" All allowed tags: {all_good_tags}\")\n",
    "    # print(tag2idx)\n",
    "    # print(idx2tag)\n",
    "    print(f\"Len all tags: {len(all_tags)}, Len good tags: {len(all_good_tags)}\")\n",
    "    #print(\"\\n Returning (all_good_tags, tag2idx)\")\n",
    "\n",
    "\n",
    "    return (all_good_tags, tag2idx)\n",
    "\n",
    "def tags_to_vec(tag_dict, tag2idx):\n",
    "    vector = np.zeros(len(tag2idx), dtype= np.float32)\n",
    "    if isinstance(tag_dict, dict):\n",
    "        for tag in tag_dict:\n",
    "            if tag in tag2idx:\n",
    "                vector[tag2idx[tag]] = 1\n",
    "    return vector\n",
    "\n",
    "def remove_bad_tags(good_tags, pois):\n",
    "    for i in pois[\"tags\"]:\n",
    "        remove_list = []\n",
    "        for j in i:\n",
    "            if j not in good_tags:\n",
    "                remove_list.append(j)\n",
    "        for removable in remove_list:\n",
    "            #print(f\"removing {removable} from {i}\")\n",
    "            i.pop(removable)\n",
    "            #print(f\"after remnoval: {i}\")     "
   ]
  },
  {
   "cell_type": "code",
   "execution_count": 3,
   "id": "5b88b887",
   "metadata": {},
   "outputs": [],
   "source": [
    "fp = pyrosm.get_data(\"Amsterdam\")\n",
    "osm = pyrosm.OSM(fp)\n",
    "pois = osm.get_pois()\n",
    "pois[\"tags\"] = pois[\"tags\"].apply(parse_tags) #only need to run it once"
   ]
  },
  {
   "cell_type": "code",
   "execution_count": 4,
   "id": "7a19896a",
   "metadata": {},
   "outputs": [
    {
     "name": "stdout",
     "output_type": "stream",
     "text": [
      "All tags sorted by frequency: {'surface': 23459, 'capacity': 23359, 'parking_space': 15939, 'access': 15026, 'smoothness': 14250, 'source:date': 13276, 'fee': 10508, 'orientation': 9416, 'wheelchair': 6808, 'backrest': 6522, 'recycling_type': 4702, 'check_date': 4681, 'brand': 4673, 'brand:wikidata': 4484, 'maxstay:conditional': 3993, 'material': 3806, 'lit': 3267, 'cuisine': 3092, 'operator:wikidata': 2934, 'covered': 2824, 'brand:wikipedia': 2148, 'waste': 2099, 'ref:bag': 1516, 'colour': 1515, 'note': 1323, 'artwork_type': 1293, 'outdoor_seating': 1255, 'seats': 1235, 'recycling:waste': 1223, 'brand:website': 1068, 'wikidata': 1060, 'recycling:paper': 1041, 'operator:wikipedia': 960, 'takeaway': 922, 'layer': 874, 'recycling:glass_bottles': 843, 'description': 837, 'artist_name': 827, 'level': 792, 'wikimedia_commons': 716, 'healthcare': 695, 'indoor_seating': 669, 'vending': 643, 'branch': 613, 'contact:facebook': 605, 'socket:type2': 573, 'denomination': 569, 'location': 567, 'payment:cash': 565, 'shelter_type': 552, 'toilets:wheelchair': 543, 'contact:instagram': 535, 'maxstay': 513, 'capacity:disabled': 487, 'alt_name': 465, 'diet:vegetarian': 457, 'bottle': 449, 'min_age': 436, 'recycling:plastic': 418, 'max_age': 410, 'survey:date': 407, 'internet_access:fee': 404, 'motorcar': 391, 'name:nl': 385, 'recycling:cardboard': 372, 'payment:credit_cards': 357, 'drive_through': 335, 'operator:website': 325, 'name:en': 323, 'smoking': 322, 'recycling:glass': 309, 'delivery': 306, 'payment:debit_cards': 304, 'payment:contactless': 303, 'recycling:clothes': 301, 'diet:vegan': 298, 'operator:type': 296, 'isced': 294, 'man_made': 279, 'mapillary': 276, 'payment:maestro': 274, 'indoor': 271, 'collection_times': 267, 'image': 267, 'direction': 267, 'old_name': 265, 'recycling:green_waste': 265, 'recycling:newspaper': 263, 'recycling:paper_packaging': 260, 'recycling:cans': 259, 'recycling:magazines': 255, 'recycling:plastic_packaging': 243, 'bench': 240, 'socket:type2:output': 236, 'check_date:opening_hours': 233, 'self_service': 226, 'supervised': 226, 'payment:coins': 217, 'payment:mastercard': 213, 'recycling:plastic_bottles': 212, 'payment:visa': 209, 'park_ride': 205, 'toilets': 202, 'male': 199, 'board_type': 198, 'isced:level': 190, 'currency:EUR': 189, 'hiking': 173, 'voltage': 169, 'female': 168, 'official_name': 167, 'amperage': 167, 'maxheight': 160, 'bin': 159, 'surface:colour': 159, 'map_type': 157, 'armrest': 157, 'recycling:books': 156, 'capacity:charging': 147, 'highway': 143, 'area': 143, 'phone:NL': 141, 'map_size': 141, 'contact:phone': 140, 'stars': 138, 'entrance': 136, 'barrier': 134, 'recycling:batteries': 131, 'contact:website': 129, 'pedagogy': 127, 'beauty': 124, 'public_transport': 123, 'support': 123, 'healthcare:speciality': 122, 'display': 118, 'type': 116, 'beds': 116, 'ferry': 115, 'recycling:small_appliances': 114, 'pets_allowed': 113, 'recycling:electrical_appliances': 112, 'charge': 111, 'fixme': 111, 'fuel:diesel': 109, 'historic': 107, 'opening_hours:signed': 104, 'website:menu': 103, 'network': 102, 'changing_table': 101, 'fax': 101, 'reservation': 98, 'panoramax': 98, 'created_by': 97, 'heritage': 95, 'paving_stones:length': 93, 'paving_stones:shape': 92, 'recycling:beverage_cartons': 91, 'social_facility:for': 91, 'heritage:operator': 87, 'service:bicycle:repair': 85, 'visibility': 84, 'fuel:octane_95': 83, 'contact:email': 83, 'unisex': 82, 'authentication:nfc': 82, 'air_conditioning': 81, 'cash_in': 80, 'guide_type': 80, 'leisure': 77, 'diet:halal': 76, 'artwork_subject': 76, 'operator:short': 75, 'recycling:cartons': 74, 'faces': 73, 'payment:app': 73, 'authentication:membership_card': 72, 'sport': 71, 'rooms': 71, 'paving_stones:width': 71, 'inscription': 70, 'date': 69, 'count': 68, 'authentication:contactless': 68, 'socket:type2_cable': 67, 'recycling:wood': 66, 'service:bicycle:retail': 66, 'payment:electronic_purses': 65, 'authentication:app': 65, 'service:bicycle:pump': 64, 'socket:type2_cable:output': 63, 'short_name': 62, 'payment:cards': 62, 'compressed_air': 59, 'noname': 59, 'height': 59, 'name:ru': 58, 'dispensing': 58, 'recycling:shoes': 58, 'toilets:disposal': 58, 'designation': 57, 'recycling:pmd': 57, 'atmotorway': 56, 'ref:rce': 55, 'facebook': 55, 'ref:gers': 55, 'artist:wikidata': 55, 'bus': 54, 'currency:XBT': 54, 'toilets:position': 53, 'emergency': 53, 'osmc:symbol': 53, 'symbol:nl': 53, 'waycolor': 53, 'contact:twitter': 52, 'payment:onchain': 52, 'note:url': 52, 'motor_vehicle': 52, 'fuel:octane_98': 51, 'community_centre': 50, 'post:housenumber': 50, 'post:street': 50, 'automated': 49, 'payment:notes': 49, 'name:de': 48, 'payment:pin': 47, 'foot': 47, 'hgv': 47, 'check_date:recycling': 46, 'airside': 46, 'payment:american_express': 46, 'studio': 45, 'post:city': 45, 'post:postcode': 45, 'brewery': 44, 'building:part': 44, 'payment:lightning': 43, 'memorial': 42, 'payment:lightning_contactless': 42, 'public_bookcase:type': 42, 'food': 41, 'service:bicycle:rental': 41, 'not:brand:wikidata': 41, 'fee:conditional': 40, 'seasonal': 40, 'source:geometry': 40, 'name:zh': 39, 'thermometer': 39, 'addr:floor': 38, 'diet:gluten_free': 38, 'moped': 38, 'recycling:scrap_metal': 37, 'bic': 37, 'service:vehicle:car_repair': 37, 'authentication:none': 37, 'mobile': 36, 'barometer': 36, 'hygrometer': 36, 'politie:eenheid': 35, 'recycling:glass_bottles:colour': 35, 'politie:basisteam': 34, 'politie:district': 34, 'lgbtq': 33, 'tents': 33, 'roof:shape': 33, 'service:bicycle:second_hand': 32, 'club': 32, 'shower': 32, 'mofa': 32, 'name:es': 31, 'caravans': 31, 'toilets:access': 30, 'fuel:e10': 29, 'architect': 29, 'artist:wikipedia': 29, 'name:uk': 28, 'wheelchair:description': 28, 'payment:v_pay': 28, 'power_supply': 28, 'socket:type2_combo': 28, 'socket:type2_combo:output': 28, 'internet_access:ssid': 27, 'laundry_service': 27, 'fuel:lpg': 26, 'drink:beer': 26, 'natural': 26, 'waterway': 26, 'contact:whatsapp': 26, 'payment:cryptocurrencies': 26, 'parking:fee': 26, 'operator:abbr': 26, 'recycling:organic': 26, 'service:vehicle:used_car_sales': 25, 'addr:unit': 25, 'service:vehicle:inspection': 25, 'microbrewery': 24, 'ele': 24, 'recycling:textiles': 24, 'name:it': 24, 'description:en': 23, 'service_times': 23, 'shelter': 23, 'name:ko': 23, 'phone:mobile': 23, 'brothel:window': 23, 'name:fa': 22, 'payment:apple_pay': 22, 'toilets:menstrual_products': 22, 'recycling:garden_waste': 22, 'full_name': 21, 'diet:meat': 21, 'guidepost': 21, 'service:vehicle:tyres': 21, 'ref:kvk': 21, 'int_name': 20, 'diet:kosher': 20, 'ref:EU:EVSE': 20, 'service': 19, 'payment:dkv': 19, 'disabled': 19, 'tourist_bus': 19, 'building:material': 19, 'roof:levels': 19, 'payment:google_pay': 18, 'emergency_telephone_code': 18, 'check_date:currency:XBT': 18, 'payment:travelcard': 18, 'payment:vpay': 18, 'opening_hours:kitchen': 18, 'check_date:capacity': 18, 'access:conditional': 18, 'contact:linkedin': 18, 'scooter': 18, 'size': 18, 'lamp_mount': 18, 'lamp_type': 18, 'description:nl': 17, 'payment:multitankcard': 17, 'horse': 17, 'service:vehicle:diagnostics': 17, 'opening_hours:url': 16, 'payment:q8_liberty': 16, 'payment:xximo': 16, 'name:fr': 16, 'network:wikidata': 16, 'subject:wikidata': 16, 'payment:account_cards': 16, 'female:signed': 16, 'male:signed': 16, 'service:vehicle:air_conditioning': 16, 'ref:rustpunt': 16, 'year': 16, 'fuel:GTL_diesel': 15, 'tactile_paving': 15, 'payment:ov-chipkaart': 15, 'service:vehicle:maintenance': 15, 'owner': 15, 'bench:direction': 15, 'building:levels:underground': 15, 'capacity:car_sharing': 15, 'payment:ipay': 14, 'vehicle': 14, 'sanitary_dump_station': 14, 'contact:mobile': 14, 'service:vehicle:glass': 14, 'service:vehicle:car_parts': 14, 'cash_out': 14, 'underground': 14, 'service:bicycle:parts': 13, 'phone:business': 13, 'fuel:adblue': 13, 'traffic_sign': 13, 'fuel:cng': 13, 'highchair': 13, 'service:vehicle:brakes': 13, 'truck': 13, 'recycling:metal_packaging': 13, 'source:geometry:date': 13, 'ref:isil': 12, 'origin': 12, 'atmotorroad': 12, 'toilets:handwashing': 12, 'website:map': 12, 'seamark:bridge:category': 12, 'rental': 12, 'stroller': 12, 'service:vehicle:batteries': 12, 'service:vehicle:oil_change': 12, 'socket:chademo': 12, 'trolley:deposit': 12, 'service:bicycle:ebike': 11, 'polling_station': 11, 'ref:vatin': 11, 'dog': 11, 'produce': 11, 'socket:chademo:output': 11, 'cargo_bike': 11, 'parcel_pickup': 11, 'oneway': 11, 'roof:material': 11, 'parking:restriction': 11, 'parking:maxstay:conditional': 11, 'check_date:internet_access': 10, 'service:bicycle:sales': 10, 'diet:lactose_free': 10, 'ref:mobile-payment': 10, 'repair': 10, 'network:wikipedia': 10, 'recycling:drink_cartons': 10, 'comment': 10, 'caravan_site:type': 10, 'service:vehicle:repairs': 10, 'service:vehicle:electrical': 10, 'service:vehicle:new_car_sales': 10, 'source:addr': 10, 'language:nl': 10, 'emergency:phone': 10, 'manufacturer': 10, 'socket:schuko': 10, 'parcel_mail_in': 10, 'theatre:type': 10, 'lockable': 10, 'railway': 10, 'check_date:collection_times': 9, 'vacuum_cleaner:self_service': 9, 'drink:club-mate': 9, 'service:bicycle:service': 9, 'cargo': 9, 'service:bicycle:dealer': 9, 'drink:craft_beer': 9, 'check_date:diet:vegetarian': 9, 'service:bicycle:tools': 9, 'subject:wikipedia': 9, 'name:prefix': 9, 'community_centre:for': 9, 'payment:cash:EUR': 9, 'water_point': 9, 'payment:visa_electron': 9, 'contact:youtube': 9, 'service:vehicle:muffler': 9, 'service:vehicle:wheels': 9, 'surveillance': 9, 'socket:type2:voltage': 9, 'width': 9, 'motorhome': 9, 'construction': 9, 'name:etymology:wikidata': 8, 'contact:fax': 8, 'service:bicycle:Bicycle_Sales_and_Service': 8, 'fuel:electricity': 8, 'fuel:e5': 8, 'diet:non-vegetarian': 8, 'tower:type': 8, 'cabins': 8, 'name:tr': 8, 'fuel:HGV_diesel': 8, 'website:booking': 8, 'seamark:type': 8, 'payment:qr_code': 8, 'payment:visa_debit': 8, 'service:vehicle:body_repair': 8, 'place': 8, 'conditional:access': 8, 'foot_traffic': 8, 'fuel:biodiesel': 7, 'screen': 7, 'hema:id': 7, 'name:he': 7, 'praxis:id': 7, 'payment:museumkaart': 7, 'disused:shop': 7, 'recycling:food_waste': 7, 'recycling:PET': 7, 'ressort': 7, 'motorway_direction': 7, 'denomination:nl': 7, 'drink:wine': 7, 'check:date': 7, 'breakfast': 7, 'theatre:genre': 7, 'loc_name': 7, 'vacuum_cleaner:fee': 7, 'bike_ride': 7, 'kiss_ride': 7, 'fuel:octane_100': 6, 'name:zh-Hans': 6, 'website_1': 6, 'service:bicycle:bicycle': 6, 'government': 6, 'diet:organic': 6, 'duty_free': 6, 'currency:BCH': 6, 'contact:tripadvisor': 6, 'static_caravans': 6, 'mtb': 6, 'theme': 6, 'name:ja': 6, 'contact:mastodon': 6, 'disused': 6, 'payment:ideal': 6, 'language:en': 6, 'grades': 6, 'phone:opening_hours': 6, 'post_box:type': 6, 'power_supply:maxcurrent': 6, 'payment:membership_card': 6, 'socket:cee_blue': 6, 'hot_water': 6, 'heritage:website': 6, 'maxspeed': 6, 'maxweight': 6, 'zone': 5, 'blood:plasma': 5, 'blood:platelets': 5, 'blood:whole': 5, 'donation:compensation': 5, 'animal': 5, 'check_date:diet:vegan': 5, 'payment:cash:machine': 5, 'terrace': 5, 'ref:scoutingnl': 5, 'drink': 5, 'source:opening_hours': 5, 'fuel:1_50': 5, 'fuel:e85': 5, 'seamark:name': 5, 'post_office:brand': 5, 'opening_date': 5, 'service:vehicle:windshields': 5, 'source:addr:date': 5, 'door': 5, 'opening_hours:service': 5, 'playground': 5, 'colour:back': 5, 'not:operator:wikidata': 5, 'psv': 5, 'departures_board': 5, 'passenger_information_display': 5, 'FIXME': 4, 'electricity': 4, 'alt_name:en': 4, 'cost:coffee': 4, 'recycling:cooking_oil': 4, 'scout:type': 4, 'chipcard': 4, 'drink:coffee': 4, 'darkroom': 4, 'noexit': 4, 'fuel:1_25': 4, 'fuel:octane_91': 4, 'name:fi': 4, 'instagram': 4, 'zero_waste': 4, 'fair_trade': 4, 'website:nl': 4, 'payment:diners_club': 4, 'product': 4, 'industrial': 4, 'lunch': 4, 'pedalboat_rental': 4, 'preschool': 4, 'service:vehicle:lpg': 4, 'townhall:type': 4, 'whatsapp': 4, 'kids_area': 4, 'tower:construction': 4, 'sanitary_dump_station:pump-out': 4, 'building:colour': 4, 'group_only': 4, 'name:ar': 4, 'contact:peertube': 4, 'panoramax:0': 4, 'power_supply:fee': 4, 'room': 4, 'maxheight:signed': 4, 'recycling:rest': 4, 'old_start_date': 4, 'statue': 4, 'fee:amount': 4, 'animal_training': 4, 'source:name': 4, 'tunnel': 4, 'parking:maxstay': 4, 'language': 4, 'bridge:structure': 4, 'building:min_level': 4, 'restriction': 4, 'bridge:support': 4, 'toilets:fee': 3, 'jumbo:id': 3, 'diet:pescetarian': 3, 'real_fire': 3, 'cannabis:recreational': 3, 'recycling:engine_oil': 3, 'disused:amenity': 3, 'lift_gate:type': 3, 'speciality': 3, 'canoe_rental': 3, 'diet:mediterranean': 3, 'wifi': 3, 'rfid_card:OV-chipkaart': 3, 'fuel:biogas': 3, 'karaoke': 3, 'collection_times:signed': 3, 'live_display': 3, 'service:electricity': 3, 'museum_type': 3, 'locker': 3, 'website:en': 3, 'internet_access:type': 3, 'name:pt': 3, 'website:orders': 3, 'contact:pinterest': 3, 'company': 3, 'lastcheck': 3, 'payment:telephone_cards': 3, 'name:suffix': 3, 'name:signed': 3, 'military_service': 3, 'service:vehicle:alignment': 3, 'membership': 3, 'source:amenity': 3, 'service:vehicle:painting': 3, 'training': 3, 'animal_shelter': 3, 'brand:phone': 3, 'access:disabled': 3, 'socket:tesla_supercharger': 3, 'socket:tesla_supercharger:output': 3, 'sanitary_dump_station:basin': 3, 'sanitary_dump_station:round_drain': 3, 'check_date:wheelchair': 3, 'scout': 3, 'addr:province': 3, 'name:pl': 3, 'kids_area:indoor': 3, 'charging': 3, 'advertising': 3, 'drinking_water:legal': 3, 'charge:conditional': 3, 'water_point:fee': 3, 'access:covid19': 3, 'nobrand': 3, 'length': 3, 'trailer:rental': 3, 'trailer:type': 3, 'bridge': 3, 'dhm_id': 3, 'mdb_id': 3, 'fenced': 3, 'alt_name:es': 3, 'goods': 3, 'name:zh-Hant': 3, 'line': 3, 'min_height': 3, 'restriction:conditional': 3, 'source:url': 3, 'parking:condition:both': 3, 'toilets:charge': 2, 'payment:girocard': 2, 'fuel:ethanol': 2, 'name:da': 2, 'name:lb': 2, 'service:bicycle:diy': 2, 'network:type': 2, 'military': 2, 'building:architecture': 2, 'recycling:aluminium': 2, 'music_genre': 2, 'freerange': 2, 'toilets:unisex': 2, 'live_music': 2, 'brand:email': 2, 'blokker:id': 2, 'check_date:smoking': 2, 'name:lt': 2, 'old_website': 2, 'website:note': 2, 'service:bicycle:chain_tool': 2, 'service:bicycle:ebike_maintenance': 2, 'changing_table:location': 2, 'geological': 2, 'source:opening_hours:date': 2, 'operational_status': 2, 'water_source': 2, 'tourism_1': 2, 'permanent_camping': 2, 'comment:opening_hours:nl': 2, 'post_office:type': 2, 'distillery': 2, 'recycling:bottles': 2, 'war_memorial': 2, 'denotation': 2, 'payment:shell': 2, 'seamark:small_craft_facility:category': 2, 'river:waterway_distance': 2, 'seamark:bridge:clearance_height': 2, 'seamark:bridge:clearance_width': 2, 'baby_feeding': 2, 'contact:tiktok': 2, 'note:nl': 2, 'artist': 2, 'reservation:website': 2, 'service:bicycle:charging': 2, 'service:vehicle:repair': 2, 'addr:suburb': 2, 'opening_hours:delivery': 2, 'opening_hours:takeaway': 2, 'operator:phone': 2, 'post_office:parcel_from': 2, 'post_office:parcel_to': 2, 'post_office:stamps': 2, 'check_date:toilets:wheelchair': 2, 'website:de': 2, 'website:fr': 2, 'description:fr': 2, 'brand:en': 2, 'cocktails': 2, 'name:sv': 2, 'piercing': 2, 'mobile_phone:repair': 2, 'shop_1': 2, 'payment:paypal': 2, 'diet:dairy_free': 2, 'computer:repair': 2, 'computer:sales': 2, 'pets': 2, 'self_checkout': 2, 'motorcycle:clothes': 2, 'motorcycle:repair': 2, 'source:shop': 2, 'dance:teaching': 2, 'kids_area:outdoor': 2, 'service:vehicle:transmission': 2, 'marketplace': 2, 'service:vehicle:polishing': 2, 'ref:kfk': 2, 'dinner': 2, 'crematorium': 2, 'retail': 2, 'post_office:service_provider': 2, 'parts': 2, 'motorboat_rental': 2, 'status': 2, 'waste_basket:colour': 2, 'payment:credit_card': 2, 'loc_ref': 2, 'lgbtq:signed': 2, 'vegan': 2, 'name:vi': 2, 'land_property': 2, 'luminous': 2, 'message:front': 2, 'message:opposite': 2, 'sides': 2, 'bench:type': 2, 'start_year': 2, 'recycling:general_waste': 2, 'alt_source': 2, 'material:type': 2, 'power_supply:capacity': 2, 'portable': 2, 'toilets:number': 2, 'diet:healthy': 2, 'truck_wash': 2, 'socket:tesla_supercharger_ccs': 2, 'socket:tesla_supercharger_ccs:output': 2, 'fuel:lng': 2, 'street_vendor': 2, 'year_of_construction': 2, 'seamark:rescue_station:category': 2, 'fuel:hvo100': 2, 'capacity:parent': 2, 'recycling:fluorescent_tubes': 2, 'leaf_type': 2, 'vending_machine': 2, 'seamark:mooring:category': 2, 'panoramax:1': 2, 'standup_paddleboard_rental': 2, 'small_electric_vehicle': 2, 'speech_output': 2, 'school:gender': 2, 'content': 2, 'capacity:electric': 2, 'fuel:h35': 2, 'fuel:h70': 2, 'depth': 2, 'subject': 2, 'ref:NBd': 2, 'camera:mount': 2, 'camera:type': 2, 'surveillance:type': 2, 'surveillance:zone': 2, 'fire_mains': 2, 'maxwidth': 2, 'motor_vehicle:conditional': 2, 'garden:type': 2, 'roof:height': 2, 'est_height': 2, 'washing_machine': 2, 'name:cs': 2, 'reformed': 2, 'zone:traffic': 2, 'fence_type': 2, 'floating': 2, 'capacity:cabins': 2, 'nudism': 2, 'capacity:motorcycle': 2, 'name:ur': 2, 'roof:colour': 2, 'proposed': 2, 'liy': 2, 'after_school': 2, 'power_supply:charge': 2, 'building:flats': 2, 'capacity:pitches': 2, 'capacity:loading': 2, 'parking:condition': 2, 'parking_space:conditional': 2, 'lanes': 2, 'sanitary_dump_station:chemical_toilet': 2, 'sanitary_dump_station:grey_water': 2, 'castle_type': 2, 'odbl': 1, 'post_office:name': 1, 'fuel:V-Power': 1, 'fuel:v-power_diesel': 1, 'wheelchair:description:de': 1, 'currency:AED': 1, 'currency:AUD': 1, 'currency:CAD': 1, 'currency:CHF': 1, 'currency:CNY': 1, 'currency:CZK': 1, 'currency:DKK': 1, 'currency:EGP': 1, 'currency:GBP': 1, 'currency:HKD': 1, 'currency:HRK': 1, 'currency:HUF': 1, 'currency:IDR': 1, 'currency:ILS': 1, 'currency:JPY': 1, 'currency:MAD': 1, 'currency:MXN': 1, 'currency:MYR': 1, 'currency:NOK': 1, 'currency:NZD': 1, 'currency:PLN': 1, 'currency:SAR': 1, 'currency:SEK': 1, 'currency:SGD': 1, 'currency:THB': 1, 'currency:TRL': 1, 'currency:USD': 1, 'currency:ZAR': 1, 'cinema:3D': 1, 'smoking:outside': 1, 'phone:conditional': 1, 'num': 1, 'wikipedia:en': 1, 'craft_beer': 1, 'rcn_ref': 1, 'strapline': 1, 'memorial:website': 1, 'ref:4en5mei': 1, 'ref:hmdb': 1, 'marihuana': 1, 'kroket': 1, 'recycling:coffee_capsules': 1, 'recycling:drugs': 1, 'cat': 1, 'recycling:aluminium_cans': 1, 'recycling:steel_cans': 1, 'diet:chicken': 1, 'fuel:benzine': 1, 'cuisine:summer': 1, 'cuisine:winter': 1, 'scenic': 1, 'fuel:diesel_b7': 1, 'coin_changer': 1, 'valves': 1, 'check_date:diet:halal': 1, 'check_date:diet:kosher': 1, 'lactose_free': 1, 'bitterballen': 1, 'wheelchair:step_height': 1, 'changing_table:count': 1, 'capacity:covid19': 1, 'menu': 1, 'internet_access:max_duration': 1, 'local_name': 1, 'remark': 1, 'source:capacity': 1, 'opening_hours:nl': 1, 'name:id': 1, 'computer:type': 1, 'food:lunch': 1, 'canoe': 1, 'contact:spotify': 1, 'payment:others': 1, 'vending:en': 1, 'vending:nl': 1, 'vending:wikidata': 1, 'electric': 1, 'cxx:code': 1, 'cxx:id': 1, 'lgbtq:women': 1, 'business': 1, 'fetish:bdsm': 1, 'genus': 1, 'species': 1, 'training_type': 1, 'memorial:type': 1, 'last_checked': 1, 'payment:nfc_mobile_payments': 1, 'climbing:boulder': 1, 'climbing:length:max': 1, 'climbing:sport': 1, 'payment:dogecoin': 1, 'payment:litecoin': 1, 'fuel:electric': 1, 'open': 1, 'addr:inclusion': 1, 'cycling': 1, 'softdrugs': 1, 'campers': 1, 'yelp': 1, 'drink:brandy': 1, 'drink:distilled': 1, 'drink:jenever': 1, 'service:bicycle:bike': 1, 'service:bicycle:mtb': 1, 'phone:contact': 1, 'start_date:amenity': 1, 'bakehouse': 1, 'oven': 1, 'education': 1, 'name:1': 1, 'service:bicycle:cleaning': 1, 'reusable_packaging:accept': 1, 'elevator': 1, 'check_date:diet:gluten_free': 1, 'sells:handbags': 1, 'changing_table:wheelchair': 1, 'short_name:en': 1, 'old_name_1': 1, 'changing_table:adult': 1, 'entrance:kerb:height': 1, 'entrance:step_count': 1, 'entrance:width': 1, 'ramp:wheelchair': 1, 'wheelchair:turning_circle': 1, 'brand:zh': 1, 'name:etymology': 1, 'store': 1, 'note:housenumber': 1, 'fuel:H2': 1, 'payment:eurotrafic': 1, 'payment:total_card': 1, 'fuel:LH2': 1, 'twitter': 1, 'service:prepress': 1, 'service:press': 1, 'service:print': 1, 'old_name:2002-2022': 1, 'contact:linktree': 1, 'wikipedia:nl': 1, 'service:vehicle:truck_repair': 1, 'shop2': 1, 'drive_in': 1, 'atm:brand': 1, 'atm:website': 1, 'phone_1': 1, 'website:be': 1, 'pet_food': 1, 'pet_supplies': 1, 'service:bicycle:clothing': 1, 'service:bicycle:coffee': 1, 'check_date:service:bicycle:retail': 1, 'motorcycle:parts': 1, 'motorcycle:tyres': 1, 'payment:not_cash': 1, 'delivery:covid19': 1, 'takeaway:covid19': 1, 'payment:iDeal': 1, 'payment:uta': 1, 'opening_hours:dinner': 1, 'shop:repair': 1, 'old_name:de': 1, 'abandoned:amenity': 1, 'windmill:functional': 1, 'windmill:type': 1, 'windmill:vanes': 1, 'ref:ruian:addr': 1, 'service:vehicle:towing': 1, 'service:vehicle:tyres_repair': 1, 'proposed:name': 1, 'email:administration': 1, 'email:sales': 1, 'office:opening_hours': 1, 'service:vehicle:restoration': 1, 'ref:cbr': 1, 'service:vehicle:brake_liquid_change': 1, 'service:vehicle:leather': 1, 'service:vehicle:oil_filter_change': 1, 'service:vehicle:number_plates': 1, 'service:vehicle:tow_bars': 1, 'service:vehicle:trailers': 1, 'service:vehicle:body_paint': 1, 'service:vehicle:spot_repair': 1, 'ski:clothes': 1, 'ski:sales': 1, 'snowboard:sales': 1, 'dress_code': 1, 'service:vehicle:wash': 1, 'service:vehicle:diesel_engine_repair': 1, 'service:vehicle:engine_repair': 1, 'caravan:repair': 1, 'motorcar:repair': 1, 'motorhome:repair': 1, 'truck:repair': 1, 'service:vehicle:shock_absorbers': 1, 'scuba_diving:rental': 1, 'scuba_diving:repair': 1, 'vacuum_cleaner:opening_hours': 1, 'operator:email': 1, 'opening_hours:phone': 1, 'opening_hours:whatsapp': 1, 'service:bicycle:accessories': 1, 'service:bicycle:electric_bikes': 1, 'service:bicycle:hire': 1, 'service:bicycle:showroom': 1, 'construction:shop': 1, 'source:contact': 1, 'motorcycle:sales': 1, 'car:repair': 1, 'car:sales': 1, 'animal_boarding': 1, 'post_office:collection_times': 1, 'post_office:opening_hours': 1, 'vegetarian': 1, 'diet:non-halal': 1, 'socket:type3': 1, 'payment:NFC_mobile_payments': 1, 'payment:cheque': 1, 'design': 1, 'drink:espresso': 1, 'drink:tea': 1, 'brand:ja': 1, 'health_speciality:dentistry': 1, 'ceo': 1, 'clothes:for': 1, 'brand:ru': 1, 'turnstile': 1, 'contact:aboutme': 1, 'contact:factual': 1, 'noise': 1, 'capacity:women': 1, 'internet_access:password': 1, 'groups': 1, 'note:name': 1, 'shop_2': 1, 'peak': 1, 'description:ru': 1, 'playground:climbingframe': 1, 'playground:sandpit': 1, 'playground:seesaw': 1, 'playground:slide': 1, 'drink:alcohol': 1, 'boat:tours': 1, 'nohousenumber': 1, 'buffet': 1, 'service:scooter:repair': 1, 'service:scooter:retail': 1, 'service:scooter:second_hand': 1, 'abandoned': 1, 'expected_rwn_route_relations': 1, 'rwn:name': 1, 'rwn_ref': 1, 'ref:shop:num': 1, 'addr:municipality': 1, 'ref:lrkp': 1, 'culture': 1, 'stars:system': 1, 'vegetable': 1, 'fuel:octane_80': 1, 'fuel:octane_87': 1, 'fuel:octane_92': 1, 'maxlength': 1, 'opening_hours:reception': 1, 'artwork_material': 1, 'artwork:material': 1, 'socket:type2:current': 1, 'tag': 1, 'subject:wikimedia_commons': 1, 'protected': 1, 'information:type': 1, 'payment': 1, 'floor': 1, 'health_person:type': 1, 'health_specialty:dermatology': 1, 'telescope:type': 1, 'illuminated': 1, 'roadside': 1, 'recycling:plastics': 1, 'lifeboat': 1, 'lifeboat:class': 1, 'seamark:radio_station:category': 1, 'seamark:radio_station:mmsi': 1, 'socket': 1, 'fuel:cng+': 1, 'service:vehicle:rims': 1, 'cash_withdrawal': 1, 'diet:fish': 1, 'recycling:chemicals': 1, 'recycling:chipboard': 1, 'recycling:computers': 1, 'recycling:electrical_items': 1, 'recycling:low_energy_bulbs': 1, 'recycling:mobile_phones': 1, 'recycling:paint': 1, 'condition': 1, 'description:de': 1, 'intermittent': 1, 'source:position': 1, 'mobility_scooter': 1, 'giant_furniture': 1, 'sculpture_type': 1, 'moped:type': 1, 'board:title': 1, 'service:vehicle:car_sales': 1, 'service:vehicle:car_service': 1, 'panoramax:2': 1, 'addr:door': 1, 'toilets:paper_supplied': 1, 'ref:IFOPT': 1, 'payment:bank_card': 1, 'tickets:public_transport': 1, 'deaf': 1, 'recycling:cds': 1, 'recycling:dvds': 1, 'recycling:phones': 1, 'seats:separated': 1, 'phone:delivery': 1, 'health_specialty:prosthodontics': 1, 'antiques:repair': 1, 'furniture:repair': 1, 'opening_hours:office': 1, 'opening_hours:workshop': 1, 'service:vehicle:chiptuning': 1, 'service:vehicle:insurance': 1, 'service:vehicle:security': 1, 'service:vehicle:wrapping': 1, 'service:vehicle:summer_check': 1, 'service:vehicle:winter_check': 1, 'service:vehicle:interior_cleaning': 1, 'traffic_sign:forward': 1, 'recycling:metal': 1, 'school:type': 1, 'informal': 1, 'musical_instrument:type': 1, 'fuel:petrol': 1, 'payment:avia_card': 1, 'payment:avia_int_card': 1, 'payment:avia_spaarkaart': 1, 'payment:logpay': 1, 'generator:solar:modules': 1, 'coin:design_count': 1, 'coin:type': 1, 'payment:coins:denominations': 1, 'disease:cancer': 1, 'ref:rsin': 1, 'payment:unionpay': 1, 'not:brand': 1, 'inscription:en': 1, 'money_transfer': 1, 'destination': 1, 'fuel:hvo20': 1, 'ref:objectid': 1, 'check_date:service:bicycle:pump': 1, 'web': 1, 'dance:style': 1, 'phone:signed': 1, 'website:signed': 1, 'payment:mobile_phone': 1, 'model:wikidata': 1, 'cold_water': 1, 'iced_water': 1, 'room_temperature_water': 1, 'warm_water': 1, 'post:country': 1, 'special_needs:autism': 1, 'recycling:deposit': 1, 'animated': 1, 'display_surface': 1, 'source:Staatsbosbeheer': 1, 'maxwidth:emergency': 1, 'segregated': 1, 'check_date:fee': 1, 'health_amenity:type': 1, 'social_facility:lodging': 1, 'social_facility:meals': 1, 'ft_link': 1, 'waterway:sign': 1, 'amenity:closed': 1, 'architect:wikipedia': 1, 'defensive_works': 1, 'name:ml': 1, 'orig_name': 1, 'shape': 1, 'toilets:level': 1, 'big_rigs': 1, 'camp_type': 1, 'dish_washing': 1, 'dryer': 1, 'general_room': 1, 'guarded': 1, 'internet': 1, 'picnic_benches': 1, 'power_supply:voltage': 1, 'water:location': 1, 'water:quality': 1, 'name:alt': 1, 'name:eo': 1, 'incline': 1, 'payment:bank_transfer': 1, 'subdenomination': 1, 'apple_pie': 1, 'squatted': 1, 'payment:discover_card': 1, 'capacity:load-unload': 1, 'old_name2': 1, 'payment:mobilepay': 1, 'reg_ref': 1, 'capacity:private': 1, 'exhibit': 1, 'check_date:maxstay': 1, 'alt_name:ur': 1, 'graffiti': 1, 'service:vehicle:sale': 1, 'kayak_rental': 1, 'addr:housenumber_1': 1, 'start_date_1': 1, 'transportation': 1, 'ref:AEFE': 1, 'wall': 1, 'ship:type': 1, 'boundary': 1, 'mooring': 1, 'bridge:ref': 1, 'relation': 1, 'fee_1': 1, 'motorcycle:parking': 1, 'proposed:building': 1, 'Brin': 1, 'waste_disposal': 1, 'note:': 1, 'name:ca': 1, 'name:cy': 1, 'name:el': 1, 'name:eu': 1, 'name:is': 1, 'name:no': 1, 'bridge_ref': 1, 'place_of_worship': 1, 'zone:maxspeed': 1, 'check_date:existence': 1, 'usage': 1, 'capacity:persons': 1, 'stones': 1, 'capacity:hgv': 1, 'covered:material': 1, 'hov': 1, 'capacity:taxi': 1, 'capacity:delivery:conditional': 1, 'playground:theme': 1, 'bridge:type': 1, 'balcony': 1, 'internet_access:access': 1, 'bench:material': 1, 'nursery': 1, 'check_in': 1, 'check_out': 1, 'sanitary_dump_station:fee': 1, 'parking:condition:right:time_interval': 1, 'parking:condition:left:maxstay': 1, 'carpool': 1, 'payment:nfc': 1, 'service:vehicle:motor': 1, 'service:vehicle:transmission_repair': 1, 'payment:online': 1, 'parking:lane:right': 1, 'taxi:conditional': 1, 'amenity:conditional': 1, 'start': 1, 'recycling:compost': 1, 'motorhome:overnight': 1, 'building:level': 1, 'hitchhiking': 1, 'stairs': 1, 'bell': 1, 'shower:charge': 1, 'shower:fee': 1, 'fireworks': 1, 'water_point:seasonal': 1, 'real_fire:fuel': 1, 'parking:restriction:conditional': 1, 'permit': 1, 'motorcycle_parking': 1, 'est_height_1': 1, 'historic:civilization': 1, 'ruins': 1, 'building:use': 1, 'site': 1, 'name:la': 1, 'not:name': 1, 'old_name:en': 1}\n",
      " All allowed tags: ['check_date', 'wheelchair', 'description', 'fee', 'operator:wikidata', 'source:date', 'wikidata', 'wikimedia_commons', 'isced:level', 'contact:website', 'brand', 'collection_times', 'operator:wikipedia', 'access', 'entrance', 'layer', 'check_date:recycling', 'recycling:glass_bottles', 'recycling:paper', 'recycling_type', 'recycling:plastic_packaging', 'recycling:waste', 'recycling:clothes', 'contact:facebook', 'contact:instagram', 'contact:twitter', 'brand:wikidata', 'compressed_air', 'fuel:GTL_diesel', 'fuel:diesel', 'fuel:octane_95', 'payment:cash', 'payment:maestro', 'payment:mastercard', 'payment:visa', 'cuisine', 'self_service', 'note', 'brand:wikipedia', 'phone:NL', 'operator:website', 'fuel:lpg', 'fuel:octane_98', 'toilets', 'branch', 'alt_name', 'old_name', 'recycling:plastic', 'recycling:batteries', 'recycling:glass', 'recycling:plastic_bottles', 'recycling:scrap_metal', 'recycling:small_appliances', 'recycling:wood', 'name:nl', 'takeaway', 'air_conditioning', 'drive_through', 'level', 'payment:pin', 'smoking', 'indoor_seating', 'outdoor_seating', 'toilets:wheelchair', 'changing_table', 'toilets:access', 'contact:phone', 'internet_access:fee', 'brand:website', 'image', 'opening_hours:url', 'diet:halal', 'short_name', 'check_date:opening_hours', 'designation', 'name:fa', 'service', 'name:uk', 'int_name', 'name:zh', 'payment:apple_pay', 'payment:google_pay', 'name:es', 'name:en', 'name:ru', 'artist_name', 'artwork_type', 'historic', 'material', 'memorial', 'ferry', 'public_transport', 'capacity', 'maxheight', 'noname', 'barrier', 'operator:type', 'automated', 'park_ride', 'motorcar', 'payment:contactless', 'socket:type2', 'socket:type2:output', 'dispensing', 'healthcare', 'location', 'cash_in', 'recycling:books', 'recycling:cans', 'recycling:cardboard', 'recycling:electrical_appliances', 'recycling:green_waste', 'recycling:magazines', 'recycling:newspaper', 'recycling:paper_packaging', 'denomination', 'map_size', 'map_type', 'leisure', 'sport', 'brewery', 'food', 'diet:vegetarian', 'politie:basisteam', 'politie:district', 'politie:eenheid', 'payment:coins', 'payment:notes', 'bus', 'maxstay', 'fuel:e10', 'heritage', 'heritage:operator', 'ref:rce', 'colour', 'official_name', 'stars', 'wheelchair:description', 'currency:EUR', 'bic', 'waste', 'contact:email', 'rooms', 'indoor', 'name:de', 'diet:vegan', 'toilets:menstrual_products', 'payment:debit_cards', 'ref:isil', 'microbrewery', 'website:menu', 'origin', 'atmotorroad', 'payment:credit_cards', 'opening_hours:signed', 'fax', 'payment:cards', 'service:bicycle:ebike', 'service:bicycle:rental', 'service:bicycle:repair', 'service:bicycle:second_hand', 'delivery', 'covered', 'smoothness', 'surface', 'internet_access:ssid', 'polling_station', 'addr:floor', 'service:bicycle:parts', 'service:bicycle:retail', 'emergency_telephone_code', 'phone:business', 'charge', 'supervised', 'created_by', 'ele', 'reservation', 'backrest', 'healthcare:speciality', 'direction', 'female', 'male', 'check_date:currency:XBT', 'currency:XBT', 'payment:lightning', 'payment:lightning_contactless', 'payment:onchain', 'service:bicycle:pump', 'network', 'min_age', 'payment:v_pay', 'fixme', 'man_made', 'inscription', 'diet:gluten_free', 'description:en', 'description:nl', 'mapillary', 'survey:date', 'bottle', 'payment:dkv', 'payment:ipay', 'payment:multitankcard', 'payment:q8_liberty', 'payment:travelcard', 'payment:vpay', 'payment:xximo', 'count', 'vending', 'not:brand:wikidata', 'unisex', 'recycling:textiles', 'capacity:disabled', 'height', 'full_name', 'recycling:beverage_cartons', 'recycling:shoes', 'laundry_service', 'drink:beer', 'name:fr', 'name:it', 'recycling:cartons', 'toilets:disposal', 'toilets:position', 'toilets:handwashing', 'diet:kosher', 'architect', 'emergency', 'diet:meat', 'seats', 'club', 'airside', 'website:map', 'facebook', 'max_age', 'ref:gers', 'atmotorway', 'service_times', 'capacity:charging', 'payment:american_express', 'foot', 'vehicle', 'fuel:adblue', 'isced', 'pedagogy', 'lgbtq', 'network:wikidata', 'opening_hours:kitchen', 'fee:conditional', 'subject:wikidata', 'payment:electronic_purses', 'beauty', 'ref:vatin', 'board_type', 'natural', 'caravans', 'shower', 'tents', 'shelter_type', 'hiking', 'payment:account_cards', 'female:signed', 'male:signed', 'guidepost', 'horse', 'disabled', 'artist:wikidata', 'authentication:membership_card', 'authentication:nfc', 'voltage', 'check_date:capacity', 'guide_type', 'traffic_sign', 'bench', 'bin', 'display', 'highway', 'lit', 'shelter', 'tactile_paving', 'fuel:cng', 'community_centre', 'armrest', 'mobile', 'ref:bag', 'operator:short', 'seasonal', 'note:url', 'artist:wikipedia', 'motor_vehicle', 'faces', 'support', 'thermometer', 'visibility', 'waterway', 'seamark:bridge:category', 'recycling:pmd', 'social_facility:for', 'roof:shape', 'artwork_subject', 'access:conditional', 'power_supply', 'sanitary_dump_station', 'service:vehicle:used_car_sales', 'highchair', 'type', 'addr:unit', 'rental', 'stroller', 'name:ko', 'studio', 'dog', 'panoramax', 'produce', 'contact:mobile', 'contact:whatsapp', 'hgv', 'service:vehicle:glass', 'contact:linkedin', 'phone:mobile', 'service:vehicle:car_parts', 'service:vehicle:car_repair', 'service:vehicle:air_conditioning', 'service:vehicle:batteries', 'service:vehicle:brakes', 'service:vehicle:diagnostics', 'service:vehicle:inspection', 'service:vehicle:oil_change', 'service:vehicle:tyres', 'payment:cryptocurrencies', 'payment:ov-chipkaart', 'payment:app', 'ref:rustpunt', 'service:vehicle:maintenance', 'ref:kvk', 'cash_out', 'truck', 'date', 'owner', 'moped', 'parking:fee', 'scooter', 'underground', 'amperage', 'beds', 'barometer', 'hygrometer', 'operator:abbr', 'brothel:window', 'recycling:organic', 'year', 'authentication:app', 'authentication:contactless', 'authentication:none', 'socket:type2_cable', 'socket:type2_cable:output', 'public_bookcase:type', 'socket:chademo', 'socket:chademo:output', 'socket:type2_combo', 'socket:type2_combo:output', 'cargo_bike', 'recycling:glass_bottles:colour', 'size', 'mofa', 'tourist_bus', 'recycling:metal_packaging', 'recycling:garden_waste', 'maxstay:conditional', 'parking_space', 'parcel_pickup', 'orientation', 'post:city', 'post:housenumber', 'post:postcode', 'post:street', 'trolley:deposit', 'bench:direction', 'paving_stones:length', 'paving_stones:width', 'ref:EU:EVSE', 'paving_stones:shape', 'lamp_mount', 'lamp_type', 'osmc:symbol', 'symbol:nl', 'waycolor', 'area', 'oneway', 'building:part', 'building:material', 'roof:material', 'roof:levels', 'source:geometry', 'source:geometry:date', 'parking:restriction', 'building:levels:underground', 'pets_allowed', 'surface:colour', 'parking:maxstay:conditional', 'capacity:car_sharing']\n",
      "Len all tags: 1317, Len good tags: 401\n"
     ]
    }
   ],
   "source": [
    "n_good_tags = 10 # Frequency of tags for them to be allowed\n",
    "\n",
    "good_tags, tag2idx = create_tag_lists(pois, n_good_tags)\n",
    "remove_bad_tags(good_tags, pois)"
   ]
  },
  {
   "cell_type": "code",
   "execution_count": 5,
   "id": "16db3f44",
   "metadata": {},
   "outputs": [],
   "source": [
    "# Keep only rows where 'tags' is a non-empty dictionary\n",
    "pois = pois[pois[\"tags\"].apply(lambda x: isinstance(x, dict) and len(x) > 2)]\n"
   ]
  },
  {
   "cell_type": "code",
   "execution_count": 6,
   "id": "7a087a95",
   "metadata": {},
   "outputs": [
    {
     "name": "stdout",
     "output_type": "stream",
     "text": [
      "33163\n",
      "8291\n",
      "q-a 8291 8291\n"
     ]
    }
   ],
   "source": [
    "final_train,  final_test = train_test_split(pois, test_size=0.2)\n",
    "print(len(final_train[\"tags\"]))\n",
    "print(len(final_test[\"tags\"]))\n",
    "test_questions = []\n",
    "test_answers = []\n",
    "for i in final_test['tags']:\n",
    "    inew = list(i.keys())\n",
    "    idx = random.randint(0, len(inew)-1)\n",
    "    test_answers.append(inew[idx])\n",
    "    test_questions.append(inew[:idx] + inew[idx+1:])\n",
    "\n",
    "print(\"q-a\", len(test_questions), len(test_answers))\n",
    "\n",
    "with open('trainingset', 'wb') as fp:\n",
    "    pickle.dump(final_train, fp)\n",
    "with open('testset_questions', 'wb') as fb:\n",
    "    pickle.dump(test_questions, fb)\n",
    "with open('testset_answer', 'wb') as fq:\n",
    "    pickle.dump(test_answers, fq)"
   ]
  },
  {
   "cell_type": "code",
   "execution_count": 7,
   "id": "337e47e1",
   "metadata": {},
   "outputs": [
    {
     "name": "stdout",
     "output_type": "stream",
     "text": [
      "<class 'pandas.core.series.Series'>\n",
      "<class 'pandas.core.series.Series'>\n"
     ]
    }
   ],
   "source": [
    "with open('trainingset', 'rb') as fp:\n",
    "    trainingloaded = pickle.load(fp)\n",
    "\n",
    "print(type(trainingloaded[\"tags\"]))\n",
    "print(type(pois['tags']))"
   ]
  }
 ],
 "metadata": {
  "kernelspec": {
   "display_name": "base",
   "language": "python",
   "name": "python3"
  },
  "language_info": {
   "codemirror_mode": {
    "name": "ipython",
    "version": 3
   },
   "file_extension": ".py",
   "mimetype": "text/x-python",
   "name": "python",
   "nbconvert_exporter": "python",
   "pygments_lexer": "ipython3",
   "version": "3.12.3"
  }
 },
 "nbformat": 4,
 "nbformat_minor": 5
}
