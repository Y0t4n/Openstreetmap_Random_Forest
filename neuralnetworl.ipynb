{
 "cells": [
  {
   "cell_type": "code",
   "execution_count": 1,
   "id": "06bfb753",
   "metadata": {},
   "outputs": [],
   "source": [
    "from pyrosm.data import sources\n",
    "import pyrosm"
   ]
  },
  {
   "cell_type": "code",
   "execution_count": 2,
   "id": "e20974f4",
   "metadata": {},
   "outputs": [
    {
     "name": "stdout",
     "output_type": "stream",
     "text": [
      "True\n"
     ]
    }
   ],
   "source": [
    "#print(sources.cities.available)\n",
    "if \"Amsterdam\" in sources.cities.available:\n",
    "    print(True)"
   ]
  },
  {
   "cell_type": "code",
   "execution_count": 3,
   "id": "a4c45b16",
   "metadata": {},
   "outputs": [],
   "source": [
    "#Parse tags\n",
    "from collections import Counter, defaultdict\n",
    "import json\n",
    "import pandas as pd\n",
    "import ast\n",
    "\n",
    "def parse_tags(val):\n",
    "    if pd.isna(val) or val in [\"None\", \"nan\", None]:\n",
    "        return {}\n",
    "    try:\n",
    "        return ast.literal_eval(val) if isinstance(val, str) else val\n",
    "    \n",
    "    except json.JSONDecodeError:\n",
    "        return {}\n",
    "\n",
    "#pois[\"tags\"] = pois[\"tags\"].apply(parse_tags) #only need to run it once\n",
    "\n"
   ]
  },
  {
   "cell_type": "code",
   "execution_count": 4,
   "id": "603f560b",
   "metadata": {},
   "outputs": [],
   "source": [
    "def create_tag_lists(pois, n):\n",
    "    tag_freq = defaultdict(int)\n",
    "    #print(tag_freq)\n",
    "\n",
    "\n",
    "\n",
    "    for idx, row in pois.iterrows(): \n",
    "        tags = row.get(\"tags\", {})\n",
    "        #print(f\"Row {idx}, Tags: {tags}, Type: {type(tags)}\")  # Check type of tags\n",
    "\n",
    "        if isinstance(tags, dict) and tags:\n",
    "            for tag_key in tags:\n",
    "                tag_freq[tag_key] += 1\n",
    "\n",
    "\n",
    "    # print(tag_freq)\n",
    "    all_tags = list(tag_freq.keys())\n",
    "    all_good_tags = [tag for tag in tag_freq if tag_freq[tag] > n]\n",
    "    tag2idx = {tag: i for i, tag in enumerate(all_good_tags)}\n",
    "    idx2tag = {i: tag for tag, i in tag2idx.items()}\n",
    "\n",
    "    tag_freq = dict(sorted(tag_freq.items(), key = lambda x: x[1], reverse = True))\n",
    "    print(f\"All tags sorted by frequency: {tag_freq}\")\n",
    "    print(f\" All allowed tags: {all_good_tags}\")\n",
    "    # print(tag2idx)\n",
    "    # print(idx2tag)\n",
    "    print(f\"Len all tags: {len(all_tags)}, Len good tags: {len(all_good_tags)}\")\n",
    "    print(\"\\n Returning (all_good_tags, tag2idx)\")\n",
    "\n",
    "\n",
    "    return (all_good_tags, tag2idx)"
   ]
  },
  {
   "cell_type": "code",
   "execution_count": 5,
   "id": "a5bc9bf1",
   "metadata": {},
   "outputs": [],
   "source": [
    "def remove_bad_tags(good_tags, pois):\n",
    "    for i in pois[\"tags\"]:\n",
    "        remove_list = []\n",
    "        for j in i:\n",
    "            if j not in good_tags:\n",
    "                remove_list.append(j)\n",
    "        for removable in remove_list:\n",
    "            #print(f\"removing {removable} from {i}\")\n",
    "            i.pop(removable)\n",
    "            #print(f\"after remnoval: {i}\")           \n",
    "   "
   ]
  },
  {
   "cell_type": "code",
   "execution_count": 6,
   "id": "6c3ccc1c",
   "metadata": {},
   "outputs": [],
   "source": [
    "import numpy as np\n",
    "def tags_to_vec(tag_dict, tag2idx):\n",
    "    vector = np.zeros(len(tag2idx), dtype= np.float32)\n",
    "    if isinstance(tag_dict, dict):\n",
    "        for tag in tag_dict:\n",
    "            if tag in tag2idx:\n",
    "                vector[tag2idx[tag]] = 1\n",
    "    return vector"
   ]
  },
  {
   "cell_type": "code",
   "execution_count": 7,
   "id": "34d6b704",
   "metadata": {},
   "outputs": [],
   "source": [
    "def vector_pois(pois, tag2idx, n):\n",
    "    X = []\n",
    "    y = []\n",
    "    N_shuffle = 4\n",
    "\n",
    "    for tag in pois[\"tags\"]:\n",
    "        if not isinstance(tag, dict) or len(tag) < n: # set the len to 1 will include empty {}\n",
    "            continue\n",
    "\n",
    "        tag_keys = list(tag.keys())\n",
    "        for _ in range(N_shuffle):\n",
    "\n",
    "            np.random.shuffle(tag_keys)\n",
    "            \n",
    "            mid_idx = len(tag_keys) // 2\n",
    "            #print(mid_idx)\n",
    "            input_tags = {k: tag[k] for k in tag_keys[:mid_idx]}\n",
    "            output_tags = {k: tag[k] for k in tag_keys[mid_idx:]}\n",
    "\n",
    "            # print(\"input_tags\", input_tags)\n",
    "            # print(\"   \")\n",
    "            # print(\"output_tags\", output_tags)\n",
    "            # print(\"--------------------------------\")\n",
    "            vec = tags_to_vec(input_tags, tag2idx)\n",
    "            #print(\"vector\",vec) #tag to vector testing\n",
    "\n",
    "\n",
    "            X.append(tags_to_vec(input_tags, tag2idx))\n",
    "            y.append(tags_to_vec(output_tags, tag2idx))\n",
    "\n",
    "    X = np.stack(X)\n",
    "    #print(X)\n",
    "    y = np.stack(y)\n",
    "    print(\"X shape:\", X.shape)\n",
    "\n",
    "    print(\"y_shape\", y.shape)\n",
    "\n",
    "    return X,y"
   ]
  },
  {
   "cell_type": "code",
   "execution_count": 8,
   "id": "fd85a333",
   "metadata": {},
   "outputs": [],
   "source": [
    "fp = pyrosm.get_data(\"Amsterdam\")\n",
    "osm = pyrosm.OSM(fp)\n",
    "pois = osm.get_pois()\n",
    "pois[\"tags\"] = pois[\"tags\"].apply(parse_tags) #only need to run it once\n"
   ]
  },
  {
   "cell_type": "code",
   "execution_count": 9,
   "id": "2742e128",
   "metadata": {},
   "outputs": [
    {
     "name": "stdout",
     "output_type": "stream",
     "text": [
      "All tags sorted by frequency: {'capacity': 23189, 'surface': 23145, 'parking_space': 15738, 'access': 14730, 'smoothness': 14013, 'source:date': 13136, 'fee': 10279, 'orientation': 9062, 'wheelchair': 6794, 'backrest': 6263, 'brand': 4630, 'recycling_type': 4610, 'brand:wikidata': 4455, 'check_date': 4434, 'maxstay:conditional': 4007, 'material': 3736, 'lit': 3240, 'cuisine': 3057, 'operator:wikidata': 2857, 'covered': 2682, 'brand:wikipedia': 2173, 'waste': 1988, 'ref:bag': 1546, 'colour': 1495, 'note': 1308, 'artwork_type': 1276, 'outdoor_seating': 1236, 'seats': 1222, 'recycling:waste': 1209, 'wikidata': 1054, 'brand:website': 1040, 'recycling:paper': 1021, 'operator:wikipedia': 954, 'takeaway': 911, 'layer': 862, 'description': 827, 'recycling:glass_bottles': 822, 'artist_name': 820, 'level': 777, 'healthcare': 685, 'wikimedia_commons': 673, 'indoor_seating': 651, 'vending': 622, 'contact:facebook': 591, 'branch': 573, 'denomination': 567, 'payment:cash': 556, 'shelter_type': 548, 'toilets:wheelchair': 537, 'location': 529, 'socket:type2': 527, 'maxstay': 511, 'contact:instagram': 510, 'capacity:disabled': 481, 'alt_name': 464, 'bottle': 451, 'diet:vegetarian': 445, 'min_age': 434, 'recycling:plastic': 418, 'survey:date': 413, 'max_age': 408, 'internet_access:fee': 402, 'name:nl': 388, 'recycling:cardboard': 369, 'motorcar': 358, 'payment:credit_cards': 344, 'drive_through': 332, 'name:en': 328, 'smoking': 324, 'recycling:glass': 314, 'delivery': 302, 'recycling:clothes': 298, 'operator:website': 298, 'diet:vegan': 296, 'isced': 296, 'payment:debit_cards': 292, 'operator:type': 289, 'payment:contactless': 279, 'payment:maestro': 278, 'mapillary': 276, 'image': 269, 'direction': 265, 'collection_times': 264, 'old_name': 264, 'recycling:green_waste': 263, 'recycling:newspaper': 260, 'recycling:cans': 258, 'recycling:paper_packaging': 257, 'recycling:magazines': 252, 'indoor': 252, 'man_made': 252, 'recycling:plastic_packaging': 243, 'bench': 237, 'supervised': 224, 'payment:coins': 222, 'payment:mastercard': 216, 'self_service': 214, 'payment:visa': 212, 'recycling:plastic_bottles': 210, 'park_ride': 206, 'socket:type2:output': 196, 'check_date:opening_hours': 195, 'toilets': 193, 'board_type': 190, 'currency:EUR': 189, 'male': 184, 'isced:level': 175, 'hiking': 172, 'official_name': 163, 'voltage': 163, 'amperage': 161, 'bin': 157, 'surface:colour': 156, 'map_type': 152, 'female': 152, 'maxheight': 151, 'recycling:books': 150, 'contact:phone': 147, 'capacity:charging': 144, 'phone:NL': 139, 'stars': 138, 'entrance': 137, 'map_size': 136, 'recycling:batteries': 132, 'barrier': 129, 'area': 129, 'contact:website': 127, 'highway': 125, 'public_transport': 121, 'pedagogy': 121, 'armrest': 119, 'support': 119, 'recycling:small_appliances': 116, 'beds': 116, 'ferry': 115, 'healthcare:speciality': 115, 'display': 115, 'beauty': 114, 'recycling:electrical_appliances': 113, 'type': 113, 'pets_allowed': 113, 'fixme': 112, 'charge': 108, 'historic': 105, 'fuel:diesel': 103, 'opening_hours:signed': 103, 'changing_table': 102, 'fax': 100, 'website:menu': 99, 'created_by': 98, 'network': 94, 'heritage': 92, 'reservation': 92, 'social_facility:for': 91, 'recycling:beverage_cartons': 89, 'contact:email': 88, 'heritage:operator': 85, 'panoramax': 84, 'service:bicycle:repair': 83, 'unisex': 82, 'cash_in': 79, 'visibility': 79, 'paving_stones:length': 79, 'paving_stones:shape': 79, 'air_conditioning': 78, 'leisure': 78, 'fuel:octane_95': 77, 'recycling:cartons': 76, 'authentication:nfc': 76, 'operator:short': 75, 'diet:halal': 71, 'faces': 71, 'rooms': 70, 'count': 68, 'date': 68, 'recycling:wood': 67, 'sport': 67, 'socket:type2_cable': 67, 'service:bicycle:retail': 66, 'authentication:membership_card': 66, 'artwork_subject': 66, 'payment:electronic_purses': 65, 'authentication:app': 63, 'socket:type2_cable:output': 63, 'payment:cards': 62, 'short_name': 61, 'dispensing': 60, 'name:ru': 59, 'noname': 59, 'designation': 58, 'compressed_air': 57, 'service:bicycle:pump': 57, 'recycling:shoes': 57, 'recycling:pmd': 57, 'paving_stones:width': 57, 'height': 56, 'toilets:disposal': 56, 'atmotorway': 56, 'facebook': 55, 'ref:gers': 55, 'bus': 54, 'currency:XBT': 54, 'emergency': 54, 'artist:wikidata': 54, 'motor_vehicle': 53, 'ref:rce': 52, 'payment:onchain': 52, 'note:url': 52, 'payment:app': 52, 'contact:twitter': 51, 'payment:notes': 51, 'toilets:position': 51, 'authentication:contactless': 50, 'post:housenumber': 49, 'post:street': 49, 'name:de': 48, 'payment:american_express': 48, 'payment:pin': 47, 'automated': 47, 'foot': 47, 'hgv': 47, 'airside': 46, 'fuel:octane_98': 45, 'community_centre': 44, 'studio': 44, 'post:city': 44, 'post:postcode': 44, 'building:part': 44, 'brewery': 43, 'payment:lightning': 43, 'check_date:recycling': 42, 'memorial': 42, 'payment:lightning_contactless': 42, 'food': 41, 'service:bicycle:rental': 41, 'public_bookcase:type': 40, 'source:geometry': 40, 'recycling:scrap_metal': 39, 'name:zh': 39, 'not:brand:wikidata': 39, 'seasonal': 39, 'thermometer': 39, 'addr:floor': 38, 'bic': 37, 'service:vehicle:car_repair': 37, 'authentication:none': 37, 'diet:gluten_free': 36, 'mobile': 36, 'barometer': 36, 'hygrometer': 36, 'politie:eenheid': 35, 'moped': 35, 'politie:basisteam': 34, 'politie:district': 34, 'fee:conditional': 34, 'name:es': 33, 'lgbtq': 33, 'recycling:glass_bottles:colour': 33, 'tents': 32, 'roof:shape': 32, 'service:bicycle:second_hand': 31, 'club': 31, 'shower': 31, 'wheelchair:description': 30, 'fuel:e10': 29, 'payment:v_pay': 29, 'architect': 29, 'artist:wikipedia': 29, 'mofa': 29, 'toilets:access': 28, 'name:uk': 28, 'internet_access:ssid': 28, 'caravans': 28, 'contact:whatsapp': 27, 'fuel:lpg': 26, 'waterway': 26, 'payment:cryptocurrencies': 26, 'brothel:window': 26, 'recycling:organic': 26, 'service:vehicle:used_car_sales': 25, 'service:vehicle:inspection': 25, 'parking:fee': 25, 'operator:abbr': 25, 'recycling:textiles': 24, 'name:it': 24, 'natural': 24, 'power_supply': 24, 'addr:unit': 24, 'microbrewery': 23, 'laundry_service': 23, 'shelter': 23, 'name:ko': 23, 'socket:type2_combo': 23, 'name:fa': 22, 'payment:apple_pay': 22, 'description:en': 22, 'service_times': 22, 'phone:mobile': 22, 'recycling:garden_waste': 22, 'service:vehicle:tyres': 21, 'ref:kvk': 21, 'socket:type2_combo:output': 21, 'service': 20, 'int_name': 20, 'toilets:menstrual_products': 20, 'ele': 20, 'diet:meat': 20, 'roof:levels': 20, 'payment:dkv': 19, 'full_name': 19, 'diet:kosher': 19, 'guidepost': 19, 'disabled': 19, 'tourist_bus': 19, 'building:material': 19, 'payment:google_pay': 18, 'emergency_telephone_code': 18, 'payment:travelcard': 18, 'payment:vpay': 18, 'access:conditional': 18, 'scooter': 18, 'ref:EU:EVSE': 18, 'inscription': 17, 'description:nl': 17, 'payment:multitankcard': 17, 'check_date:currency:XBT': 17, 'payment:account_cards': 17, 'horse': 17, 'service:vehicle:diagnostics': 17, 'size': 17, 'opening_hours:url': 16, 'payment:q8_liberty': 16, 'payment:xximo': 16, 'network:wikidata': 16, 'opening_hours:kitchen': 16, 'subject:wikidata': 16, 'contact:linkedin': 16, 'service:vehicle:air_conditioning': 16, 'ref:rustpunt': 16, 'year': 16, 'name:fr': 15, 'payment:ov-chipkaart': 15, 'service:vehicle:maintenance': 15, 'owner': 15, 'bench:direction': 15, 'capacity:car_sharing': 15, 'payment:ipay': 14, 'vehicle': 14, 'check_date:capacity': 14, 'tactile_paving': 14, 'sanitary_dump_station': 14, 'contact:mobile': 14, 'service:vehicle:glass': 14, 'service:vehicle:car_parts': 14, 'underground': 14, 'guide_type': 14, 'phone:business': 13, 'ref:mobile-payment': 13, 'fuel:adblue': 13, 'female:signed': 13, 'male:signed': 13, 'fuel:cng': 13, 'service:vehicle:brakes': 13, 'truck': 13, 'recycling:metal_packaging': 13, 'source:geometry:date': 13, 'building:levels:underground': 13, 'ref:isil': 12, 'origin': 12, 'atmotorroad': 12, 'service:bicycle:parts': 12, 'toilets:handwashing': 12, 'seamark:bridge:category': 12, 'highchair': 12, 'stroller': 12, 'service:vehicle:batteries': 12, 'service:vehicle:oil_change': 12, 'cash_out': 12, 'socket:chademo': 12, 'trolley:deposit': 12, 'polling_station': 11, 'website:map': 11, 'ref:vatin': 11, 'rental': 11, 'produce': 11, 'socket:chademo:output': 11, 'parcel_pickup': 11, 'oneway': 11, 'roof:material': 11, 'parking:restriction': 11, 'parking:maxstay:conditional': 11, 'check_date:internet_access': 10, 'service:bicycle:ebike': 10, 'service:bicycle:sales': 10, 'diet:lactose_free': 10, 'repair': 10, 'network:wikipedia': 10, 'recycling:drink_cartons': 10, 'comment': 10, 'caravan_site:type': 10, 'dog': 10, 'service:vehicle:repairs': 10, 'service:vehicle:electrical': 10, 'service:vehicle:new_car_sales': 10, 'emergency:phone': 10, 'manufacturer': 10, 'socket:schuko': 10, 'cargo_bike': 10, 'lockable': 10, 'traffic_sign': 10, 'railway': 10, 'check_date:collection_times': 9, 'fuel:GTL_diesel': 9, 'vacuum_cleaner:self_service': 9, 'drink:club-mate': 9, 'contact:fax': 9, 'cargo': 9, 'service:bicycle:dealer': 9, 'service:bicycle:tools': 9, 'subject:wikipedia': 9, 'payment:cash:EUR': 9, 'water_point': 9, 'payment:visa_electron': 9, 'service:vehicle:muffler': 9, 'service:vehicle:wheels': 9, 'language:nl': 9, 'socket:type2:voltage': 9, 'width': 9, 'parcel_mail_in': 9, 'theatre:type': 9, 'place': 9, 'name:etymology:wikidata': 8, 'service:bicycle:service': 8, 'praxis:id': 8, 'service:bicycle:Bicycle_Sales_and_Service': 8, 'recycling:food_waste': 8, 'fuel:electricity': 8, 'fuel:e5': 8, 'diet:non-vegetarian': 8, 'tower:type': 8, 'name:prefix': 8, 'cabins': 8, 'name:tr': 8, 'fuel:HGV_diesel': 8, 'website:booking': 8, 'seamark:type': 8, 'payment:qr_code': 8, 'payment:visa_debit': 8, 'service:vehicle:body_repair': 8, 'motorhome': 8, 'construction': 8, 'conditional:access': 8, 'foot_traffic': 8, 'fuel:biodiesel': 7, 'hema:id': 7, 'name:he': 7, 'payment:museumkaart': 7, 'disused:shop': 7, 'recycling:PET': 7, 'ressort': 7, 'motorway_direction': 7, 'denomination:nl': 7, 'drink:wine': 7, 'check:date': 7, 'check_date:diet:vegetarian': 7, 'contact:youtube': 7, 'breakfast': 7, 'surveillance': 7, 'theatre:genre': 7, 'loc_name': 7, 'vacuum_cleaner:fee': 7, 'building:colour': 7, 'bike_ride': 7, 'kiss_ride': 7, 'fuel:octane_100': 6, 'screen': 6, 'name:zh-Hans': 6, 'website_1': 6, 'service:bicycle:bicycle': 6, 'government': 6, 'diet:organic': 6, 'duty_free': 6, 'currency:BCH': 6, 'contact:tripadvisor': 6, 'static_caravans': 6, 'community_centre:for': 6, 'mtb': 6, 'theme': 6, 'name:ja': 6, 'contact:mastodon': 6, 'disused': 6, 'payment:ideal': 6, 'grades': 6, 'phone:opening_hours': 6, 'post_box:type': 6, 'power_supply:maxcurrent': 6, 'payment:membership_card': 6, 'socket:cee_blue': 6, 'hot_water': 6, 'heritage:website': 6, 'maxspeed': 6, 'maxweight': 6, 'zone': 5, 'blood:plasma': 5, 'blood:platelets': 5, 'blood:whole': 5, 'donation:compensation': 5, 'animal': 5, 'payment:cash:machine': 5, 'terrace': 5, 'ref:scoutingnl': 5, 'drink': 5, 'source:opening_hours': 5, 'fuel:1_50': 5, 'fuel:e85': 5, 'seamark:name': 5, 'name:fi': 5, 'post_office:brand': 5, 'website:nl': 5, 'source:addr': 5, 'service:vehicle:windshields': 5, 'addr:province': 5, 'door': 5, 'language:en': 5, 'opening_hours:service': 5, 'playground': 5, 'colour:back': 5, 'source:name': 5, 'psv': 5, 'departures_board': 5, 'passenger_information_display': 5, 'FIXME': 4, 'electricity': 4, 'check_date:diet:vegan': 4, 'cost:coffee': 4, 'recycling:cooking_oil': 4, 'scout:type': 4, 'chipcard': 4, 'drink:coffee': 4, 'darkroom': 4, 'noexit': 4, 'fuel:1_25': 4, 'fuel:octane_91': 4, 'instagram': 4, 'drink:beer': 4, 'zero_waste': 4, 'fair_trade': 4, 'website:en': 4, 'website:orders': 4, 'payment:diners_club': 4, 'product': 4, 'opening_date': 4, 'industrial': 4, 'lunch': 4, 'pedalboat_rental': 4, 'preschool': 4, 'service:vehicle:lpg': 4, 'townhall:type': 4, 'whatsapp': 4, 'kids_area': 4, 'sanitary_dump_station:pump-out': 4, 'group_only': 4, 'name:ar': 4, 'contact:peertube': 4, 'power_supply:fee': 4, 'room': 4, 'maxheight:signed': 4, 'recycling:rest': 4, 'old_start_date': 4, 'not:operator:wikidata': 4, 'statue': 4, 'fee:amount': 4, 'animal_training': 4, 'tunnel': 4, 'parking:maxstay': 4, 'language': 4, 'building:min_level': 4, 'bridge:support': 4, 'toilets:fee': 3, 'jumbo:id': 3, 'diet:pescetarian': 3, 'real_fire': 3, 'alt_name:en': 3, 'cannabis:recreational': 3, 'recycling:engine_oil': 3, 'disused:amenity': 3, 'speciality': 3, 'canoe_rental': 3, 'diet:mediterranean': 3, 'wifi': 3, 'rfid_card:OV-chipkaart': 3, 'fuel:biogas': 3, 'karaoke': 3, 'collection_times:signed': 3, 'live_display': 3, 'service:electricity': 3, 'locker': 3, 'internet_access:type': 3, 'name:pt': 3, 'contact:pinterest': 3, 'company': 3, 'lastcheck': 3, 'payment:telephone_cards': 3, 'name:suffix': 3, 'name:signed': 3, 'service:vehicle:alignment': 3, 'membership': 3, 'source:amenity': 3, 'service:vehicle:painting': 3, 'training': 3, 'animal_shelter': 3, 'brand:phone': 3, 'tower:construction': 3, 'access:disabled': 3, 'socket:tesla_supercharger': 3, 'socket:tesla_supercharger:output': 3, 'sanitary_dump_station:basin': 3, 'sanitary_dump_station:round_drain': 3, 'scout': 3, 'name:pl': 3, 'drinking_water:legal': 3, 'charge:conditional': 3, 'water_point:fee': 3, 'access:covid19': 3, 'nobrand': 3, 'length': 3, 'trailer:rental': 3, 'trailer:type': 3, 'bridge': 3, 'dhm_id': 3, 'mdb_id': 3, 'fenced': 3, 'alt_name:es': 3, 'goods': 3, 'name:zh-Hant': 3, 'line': 3, 'bridge:structure': 3, 'min_height': 3, 'source:url': 3, 'parking:condition:both': 3, 'restriction': 3, 'payment:girocard': 2, 'fuel:ethanol': 2, 'name:da': 2, 'name:lb': 2, 'service:bicycle:diy': 2, 'network:type': 2, 'military': 2, 'building:architecture': 2, 'recycling:aluminium': 2, 'music_genre': 2, 'freerange': 2, 'toilets:unisex': 2, 'live_music': 2, 'brand:email': 2, 'name:lt': 2, 'old_website': 2, 'website:note': 2, 'service:bicycle:chain_tool': 2, 'service:bicycle:ebike_maintenance': 2, 'geological': 2, 'source:opening_hours:date': 2, 'operational_status': 2, 'water_source': 2, 'tourism_1': 2, 'permanent_camping': 2, 'comment:opening_hours:nl': 2, 'post_office:type': 2, 'distillery': 2, 'recycling:bottles': 2, 'war_memorial': 2, 'denotation': 2, 'payment:shell': 2, 'seamark:small_craft_facility:category': 2, 'river:waterway_distance': 2, 'seamark:bridge:clearance_height': 2, 'seamark:bridge:clearance_width': 2, 'baby_feeding': 2, 'contact:tiktok': 2, 'note:nl': 2, 'artist': 2, 'reservation:website': 2, 'service:bicycle:charging': 2, 'service:vehicle:repair': 2, 'addr:suburb': 2, 'opening_hours:delivery': 2, 'operator:phone': 2, 'post_office:parcel_from': 2, 'post_office:parcel_to': 2, 'post_office:stamps': 2, 'check_date:toilets:wheelchair': 2, 'website:de': 2, 'website:fr': 2, 'description:fr': 2, 'brand:en': 2, 'cocktails': 2, 'name:sv': 2, 'piercing': 2, 'museum_type': 2, 'mobile_phone:repair': 2, 'shop_1': 2, 'payment:paypal': 2, 'diet:dairy_free': 2, 'computer:repair': 2, 'computer:sales': 2, 'pets': 2, 'motorcycle:clothes': 2, 'motorcycle:repair': 2, 'source:shop': 2, 'dance:teaching': 2, 'kids_area:outdoor': 2, 'service:vehicle:transmission': 2, 'marketplace': 2, 'service:vehicle:polishing': 2, 'ref:kfk': 2, 'dinner': 2, 'crematorium': 2, 'retail': 2, 'post_office:service_provider': 2, 'parts': 2, 'status': 2, 'waste_basket:colour': 2, 'internet_access:password': 2, 'payment:credit_card': 2, 'loc_ref': 2, 'lgbtq:signed': 2, 'vegan': 2, 'kids_area:indoor': 2, 'name:vi': 2, 'charging': 2, 'bench:type': 2, 'start_year': 2, 'recycling:general_waste': 2, 'alt_source': 2, 'material:type': 2, 'power_supply:capacity': 2, 'portable': 2, 'toilets:number': 2, 'diet:healthy': 2, 'truck_wash': 2, 'fuel:lng': 2, 'street_vendor': 2, 'year_of_construction': 2, 'seamark:rescue_station:category': 2, 'fuel:hvo100': 2, 'capacity:parent': 2, 'recycling:fluorescent_tubes': 2, 'leaf_type': 2, 'vending_machine': 2, 'seamark:mooring:category': 2, 'self_checkout': 2, 'panoramax:0': 2, 'panoramax:1': 2, 'standup_paddleboard_rental': 2, 'small_electric_vehicle': 2, 'speech_output': 2, 'school:gender': 2, 'content': 2, 'capacity:electric': 2, 'fuel:h35': 2, 'fuel:h70': 2, 'depth': 2, 'subject': 2, 'ref:NBd': 2, 'maxwidth': 2, 'motor_vehicle:conditional': 2, 'garden:type': 2, 'roof:height': 2, 'est_height': 2, 'washing_machine': 2, 'name:cs': 2, 'reformed': 2, 'zone:traffic': 2, 'fence_type': 2, 'floating': 2, 'capacity:cabins': 2, 'nudism': 2, 'capacity:motorcycle': 2, 'name:ur': 2, 'roof:colour': 2, 'liy': 2, 'after_school': 2, 'power_supply:charge': 2, 'building:flats': 2, 'capacity:pitches': 2, 'capacity:loading': 2, 'parking:condition': 2, 'parking_space:conditional': 2, 'lanes': 2, 'sanitary_dump_station:chemical_toilet': 2, 'sanitary_dump_station:grey_water': 2, 'castle_type': 2, 'toilets:charge': 1, 'odbl': 1, 'post_office:name': 1, 'fuel:V-Power': 1, 'fuel:v-power_diesel': 1, 'wheelchair:description:de': 1, 'currency:AED': 1, 'currency:AUD': 1, 'currency:CAD': 1, 'currency:CHF': 1, 'currency:CNY': 1, 'currency:CZK': 1, 'currency:DKK': 1, 'currency:EGP': 1, 'currency:GBP': 1, 'currency:HKD': 1, 'currency:HRK': 1, 'currency:HUF': 1, 'currency:IDR': 1, 'currency:ILS': 1, 'currency:JPY': 1, 'currency:MAD': 1, 'currency:MXN': 1, 'currency:MYR': 1, 'currency:NOK': 1, 'currency:NZD': 1, 'currency:PLN': 1, 'currency:SAR': 1, 'currency:SEK': 1, 'currency:SGD': 1, 'currency:THB': 1, 'currency:TRL': 1, 'currency:USD': 1, 'currency:ZAR': 1, 'cinema:3D': 1, 'smoking:outside': 1, 'phone:conditional': 1, 'num': 1, 'wikipedia:en': 1, 'craft_beer': 1, 'rcn_ref': 1, 'strapline': 1, 'memorial:website': 1, 'ref:4en5mei': 1, 'ref:hmdb': 1, 'marihuana': 1, 'kroket': 1, 'recycling:coffee_capsules': 1, 'recycling:drugs': 1, 'cat': 1, 'recycling:aluminium_cans': 1, 'recycling:steel_cans': 1, 'diet:chicken': 1, 'fuel:benzine': 1, 'blokker:id': 1, 'cuisine:summer': 1, 'cuisine:winter': 1, 'scenic': 1, 'fuel:diesel_b7': 1, 'coin_changer': 1, 'valves': 1, 'lactose_free': 1, 'bitterballen': 1, 'lift_gate:type': 1, 'wheelchair:step_height': 1, 'capacity:covid19': 1, 'menu': 1, 'internet_access:max_duration': 1, 'local_name': 1, 'remark': 1, 'source:capacity': 1, 'opening_hours:nl': 1, 'name:id': 1, 'computer:type': 1, 'food:lunch': 1, 'canoe': 1, 'contact:spotify': 1, 'payment:others': 1, 'vending:en': 1, 'vending:nl': 1, 'vending:wikidata': 1, 'electric': 1, 'cxx:code': 1, 'cxx:id': 1, 'lgbtq:women': 1, 'business': 1, 'fetish:bdsm': 1, 'genus': 1, 'species': 1, 'training_type': 1, 'memorial:type': 1, 'last_checked': 1, 'payment:nfc_mobile_payments': 1, 'climbing:boulder': 1, 'climbing:length:max': 1, 'climbing:sport': 1, 'payment:dogecoin': 1, 'payment:litecoin': 1, 'fuel:electric': 1, 'open': 1, 'addr:inclusion': 1, 'cycling': 1, 'softdrugs': 1, 'campers': 1, 'yelp': 1, 'drink:brandy': 1, 'drink:distilled': 1, 'drink:jenever': 1, 'service:bicycle:bike': 1, 'service:bicycle:mtb': 1, 'phone:contact': 1, 'start_date:amenity': 1, 'bakehouse': 1, 'oven': 1, 'education': 1, 'opening_hours:takeaway': 1, 'name:1': 1, 'service:bicycle:cleaning': 1, 'reusable_packaging:accept': 1, 'elevator': 1, 'sells:handbags': 1, 'changing_table:location': 1, 'changing_table:wheelchair': 1, 'short_name:en': 1, 'old_name_1': 1, 'changing_table:adult': 1, 'entrance:kerb:height': 1, 'entrance:step_count': 1, 'entrance:width': 1, 'ramp:wheelchair': 1, 'wheelchair:turning_circle': 1, 'brand:zh': 1, 'name:etymology': 1, 'store': 1, 'note:housenumber': 1, 'fuel:H2': 1, 'payment:eurotrafic': 1, 'payment:total_card': 1, 'fuel:LH2': 1, 'twitter': 1, 'service:prepress': 1, 'service:press': 1, 'service:print': 1, 'old_name:2002-2022': 1, 'contact:linktree': 1, 'wikipedia:nl': 1, 'service:vehicle:truck_repair': 1, 'shop2': 1, 'drive_in': 1, 'atm:brand': 1, 'atm:website': 1, 'phone_1': 1, 'website:be': 1, 'pet_food': 1, 'pet_supplies': 1, 'service:bicycle:clothing': 1, 'service:bicycle:coffee': 1, 'check_date:service:bicycle:retail': 1, 'motorcycle:parts': 1, 'motorcycle:tyres': 1, 'payment:not_cash': 1, 'delivery:covid19': 1, 'takeaway:covid19': 1, 'payment:iDeal': 1, 'payment:uta': 1, 'opening_hours:dinner': 1, 'shop:repair': 1, 'old_name:de': 1, 'abandoned:amenity': 1, 'windmill:functional': 1, 'windmill:type': 1, 'windmill:vanes': 1, 'ref:ruian:addr': 1, 'service:vehicle:towing': 1, 'service:vehicle:tyres_repair': 1, 'proposed:name': 1, 'email:administration': 1, 'email:sales': 1, 'office:opening_hours': 1, 'service:vehicle:restoration': 1, 'ref:cbr': 1, 'service:vehicle:brake_liquid_change': 1, 'service:vehicle:leather': 1, 'service:vehicle:oil_filter_change': 1, 'service:vehicle:number_plates': 1, 'service:vehicle:tow_bars': 1, 'service:vehicle:trailers': 1, 'service:vehicle:body_paint': 1, 'service:vehicle:spot_repair': 1, 'ski:clothes': 1, 'ski:sales': 1, 'snowboard:sales': 1, 'dress_code': 1, 'service:vehicle:wash': 1, 'service:vehicle:diesel_engine_repair': 1, 'service:vehicle:engine_repair': 1, 'caravan:repair': 1, 'motorcar:repair': 1, 'motorhome:repair': 1, 'truck:repair': 1, 'service:vehicle:shock_absorbers': 1, 'scuba_diving:rental': 1, 'scuba_diving:repair': 1, 'vacuum_cleaner:opening_hours': 1, 'operator:email': 1, 'opening_hours:phone': 1, 'opening_hours:whatsapp': 1, 'service:bicycle:accessories': 1, 'service:bicycle:electric_bikes': 1, 'service:bicycle:hire': 1, 'service:bicycle:showroom': 1, 'source:contact': 1, 'motorcycle:sales': 1, 'car:repair': 1, 'car:sales': 1, 'animal_boarding': 1, 'post_office:collection_times': 1, 'post_office:opening_hours': 1, 'motorboat_rental': 1, 'vegetarian': 1, 'diet:non-halal': 1, 'socket:type3': 1, 'payment:NFC_mobile_payments': 1, 'payment:cheque': 1, 'design': 1, 'drink:espresso': 1, 'drink:tea': 1, 'brand:ja': 1, 'health_speciality:dentistry': 1, 'ceo': 1, 'clothes:for': 1, 'brand:ru': 1, 'turnstile': 1, 'contact:aboutme': 1, 'contact:factual': 1, 'noise': 1, 'capacity:women': 1, 'groups': 1, 'note:name': 1, 'shop_2': 1, 'peak': 1, 'description:ru': 1, 'playground:climbingframe': 1, 'playground:sandpit': 1, 'playground:seesaw': 1, 'playground:slide': 1, 'check_date:smoking': 1, 'drink:alcohol': 1, 'boat:tours': 1, 'nohousenumber': 1, 'buffet': 1, 'service:scooter:repair': 1, 'service:scooter:retail': 1, 'service:scooter:second_hand': 1, 'abandoned': 1, 'expected_rwn_route_relations': 1, 'rwn:name': 1, 'rwn_ref': 1, 'ref:shop:num': 1, 'addr:municipality': 1, 'ref:lrkp': 1, 'culture': 1, 'stars:system': 1, 'vegetable': 1, 'fuel:octane_80': 1, 'fuel:octane_87': 1, 'fuel:octane_92': 1, 'maxlength': 1, 'opening_hours:reception': 1, 'artwork_material': 1, 'artwork:material': 1, 'socket:type2:current': 1, 'tag': 1, 'subject:wikimedia_commons': 1, 'protected': 1, 'information:type': 1, 'payment': 1, 'floor': 1, 'health_person:type': 1, 'health_specialty:dermatology': 1, 'telescope:type': 1, 'illuminated': 1, 'roadside': 1, 'socket:tesla_supercharger_ccs': 1, 'socket:tesla_supercharger_ccs:output': 1, 'recycling:plastics': 1, 'lifeboat': 1, 'lifeboat:class': 1, 'seamark:radio_station:category': 1, 'seamark:radio_station:mmsi': 1, 'socket': 1, 'fuel:cng+': 1, 'service:vehicle:rims': 1, 'cash_withdrawal': 1, 'diet:fish': 1, 'recycling:chemicals': 1, 'recycling:chipboard': 1, 'recycling:computers': 1, 'recycling:electrical_items': 1, 'recycling:low_energy_bulbs': 1, 'recycling:mobile_phones': 1, 'recycling:paint': 1, 'condition': 1, 'check_date:wheelchair': 1, 'description:de': 1, 'intermittent': 1, 'source:position': 1, 'mobility_scooter': 1, 'giant_furniture': 1, 'sculpture_type': 1, 'moped:type': 1, 'board:title': 1, 'service:vehicle:car_sales': 1, 'service:vehicle:car_service': 1, 'panoramax:2': 1, 'toilets:paper_supplied': 1, 'ref:IFOPT': 1, 'payment:bank_card': 1, 'tickets:public_transport': 1, 'deaf': 1, 'recycling:cds': 1, 'recycling:dvds': 1, 'recycling:phones': 1, 'seats:separated': 1, 'phone:delivery': 1, 'health_specialty:prosthodontics': 1, 'antiques:repair': 1, 'furniture:repair': 1, 'opening_hours:office': 1, 'opening_hours:workshop': 1, 'service:vehicle:chiptuning': 1, 'service:vehicle:insurance': 1, 'service:vehicle:security': 1, 'service:vehicle:wrapping': 1, 'service:vehicle:summer_check': 1, 'service:vehicle:winter_check': 1, 'service:vehicle:interior_cleaning': 1, 'traffic_sign:forward': 1, 'recycling:metal': 1, 'school:type': 1, 'advertising': 1, 'informal': 1, 'musical_instrument:type': 1, 'fuel:petrol': 1, 'payment:avia_card': 1, 'payment:avia_int_card': 1, 'payment:avia_spaarkaart': 1, 'payment:logpay': 1, 'generator:solar:modules': 1, 'coin:design_count': 1, 'coin:type': 1, 'payment:coins:denominations': 1, 'disease:cancer': 1, 'ref:rsin': 1, 'payment:unionpay': 1, 'not:brand': 1, 'inscription:en': 1, 'money_transfer': 1, 'destination': 1, 'fuel:hvo20': 1, 'ref:objectid': 1, 'check_date:service:bicycle:pump': 1, 'web': 1, 'dance:style': 1, 'phone:signed': 1, 'website:signed': 1, 'payment:mobile_phone': 1, 'cold_water': 1, 'iced_water': 1, 'room_temperature_water': 1, 'warm_water': 1, 'source:Staatsbosbeheer': 1, 'maxwidth:emergency': 1, 'segregated': 1, 'check_date:fee': 1, 'health_amenity:type': 1, 'social_facility:lodging': 1, 'social_facility:meals': 1, 'ft_link': 1, 'waterway:sign': 1, 'amenity:closed': 1, 'architect:wikipedia': 1, 'defensive_works': 1, 'name:ml': 1, 'shape': 1, 'toilets:level': 1, 'big_rigs': 1, 'camp_type': 1, 'dish_washing': 1, 'dryer': 1, 'general_room': 1, 'guarded': 1, 'internet': 1, 'picnic_benches': 1, 'power_supply:voltage': 1, 'water:location': 1, 'water:quality': 1, 'name:alt': 1, 'name:eo': 1, 'incline': 1, 'payment:bank_transfer': 1, 'subdenomination': 1, 'apple_pie': 1, 'squatted': 1, 'payment:discover_card': 1, 'capacity:load-unload': 1, 'old_name2': 1, 'payment:mobilepay': 1, 'reg_ref': 1, 'capacity:private': 1, 'exhibit': 1, 'check_date:maxstay': 1, 'alt_name:ur': 1, 'graffiti': 1, 'service:vehicle:sale': 1, 'kayak_rental': 1, 'addr:housenumber_1': 1, 'start_date_1': 1, 'transportation': 1, 'ref:AEFE': 1, 'wall': 1, 'ship:type': 1, 'boundary': 1, 'mooring': 1, 'bridge:ref': 1, 'relation': 1, 'fee_1': 1, 'motorcycle:parking': 1, 'proposed:building': 1, 'Brin': 1, 'waste_disposal': 1, 'note:': 1, 'name:ca': 1, 'name:cy': 1, 'name:el': 1, 'name:eu': 1, 'name:is': 1, 'name:no': 1, 'bridge_ref': 1, 'place_of_worship': 1, 'zone:maxspeed': 1, 'check_date:existence': 1, 'usage': 1, 'capacity:persons': 1, 'stones': 1, 'capacity:hgv': 1, 'covered:material': 1, 'hov': 1, 'capacity:taxi': 1, 'capacity:delivery:conditional': 1, 'playground:theme': 1, 'bridge:type': 1, 'balcony': 1, 'internet_access:access': 1, 'bench:material': 1, 'nursery': 1, 'check_in': 1, 'check_out': 1, 'sanitary_dump_station:fee': 1, 'parking:condition:right:time_interval': 1, 'parking:condition:left:maxstay': 1, 'carpool': 1, 'payment:nfc': 1, 'service:vehicle:motor': 1, 'service:vehicle:transmission_repair': 1, 'payment:online': 1, 'parking:lane:right': 1, 'taxi:conditional': 1, 'amenity:conditional': 1, 'recycling:compost': 1, 'building:level': 1, 'hitchhiking': 1, 'stairs': 1, 'bell': 1, 'shower:charge': 1, 'shower:fee': 1, 'fireworks': 1, 'water_point:seasonal': 1, 'real_fire:fuel': 1, 'parking:restriction:conditional': 1, 'est_height_1': 1, 'historic:civilization': 1, 'ruins': 1, 'building:use': 1, 'site': 1, 'name:la': 1, 'not:name': 1, 'old_name:en': 1}\n",
      " All allowed tags: ['check_date', 'wheelchair', 'description', 'fee', 'operator:wikidata', 'source:date', 'wikidata', 'wikimedia_commons', 'isced:level', 'contact:website', 'brand', 'collection_times', 'operator:wikipedia', 'access', 'entrance', 'layer', 'recycling:glass_bottles', 'recycling:paper', 'recycling_type', 'recycling:plastic_packaging', 'recycling:waste', 'recycling:clothes', 'contact:facebook', 'contact:instagram', 'contact:twitter', 'brand:wikidata', 'compressed_air', 'fuel:diesel', 'fuel:octane_95', 'payment:cash', 'payment:maestro', 'payment:mastercard', 'payment:visa', 'check_date:recycling', 'cuisine', 'self_service', 'note', 'brand:wikipedia', 'phone:NL', 'operator:website', 'fuel:octane_98', 'toilets', 'branch', 'alt_name', 'old_name', 'recycling:plastic', 'recycling:batteries', 'recycling:glass', 'recycling:plastic_bottles', 'recycling:scrap_metal', 'recycling:small_appliances', 'recycling:wood', 'name:nl', 'takeaway', 'air_conditioning', 'drive_through', 'level', 'payment:pin', 'smoking', 'indoor_seating', 'outdoor_seating', 'toilets:wheelchair', 'changing_table', 'contact:phone', 'internet_access:fee', 'brand:website', 'image', 'diet:halal', 'short_name', 'check_date:opening_hours', 'designation', 'name:zh', 'name:es', 'name:en', 'name:ru', 'artist_name', 'artwork_type', 'historic', 'material', 'memorial', 'ferry', 'public_transport', 'capacity', 'maxheight', 'noname', 'operator:type', 'automated', 'park_ride', 'motorcar', 'payment:contactless', 'socket:type2', 'socket:type2:output', 'dispensing', 'healthcare', 'location', 'cash_in', 'recycling:books', 'recycling:cans', 'recycling:cardboard', 'recycling:electrical_appliances', 'recycling:green_waste', 'recycling:magazines', 'recycling:newspaper', 'recycling:paper_packaging', 'denomination', 'map_size', 'map_type', 'leisure', 'sport', 'brewery', 'food', 'diet:vegetarian', 'politie:basisteam', 'politie:district', 'politie:eenheid', 'payment:coins', 'payment:notes', 'bus', 'maxstay', 'heritage', 'heritage:operator', 'ref:rce', 'colour', 'official_name', 'stars', 'currency:EUR', 'bic', 'waste', 'contact:email', 'rooms', 'indoor', 'name:de', 'diet:vegan', 'payment:debit_cards', 'website:menu', 'payment:credit_cards', 'opening_hours:signed', 'fax', 'payment:cards', 'service:bicycle:rental', 'service:bicycle:repair', 'service:bicycle:second_hand', 'delivery', 'covered', 'smoothness', 'surface', 'addr:floor', 'service:bicycle:retail', 'charge', 'supervised', 'created_by', 'reservation', 'backrest', 'healthcare:speciality', 'direction', 'female', 'male', 'currency:XBT', 'payment:lightning', 'payment:lightning_contactless', 'payment:onchain', 'survey:date', 'service:bicycle:pump', 'network', 'min_age', 'fixme', 'man_made', 'diet:gluten_free', 'mapillary', 'bottle', 'count', 'barrier', 'vending', 'not:brand:wikidata', 'unisex', 'capacity:disabled', 'height', 'recycling:beverage_cartons', 'recycling:shoes', 'recycling:cartons', 'toilets:disposal', 'toilets:position', 'emergency', 'seats', 'club', 'airside', 'facebook', 'max_age', 'ref:gers', 'atmotorway', 'capacity:charging', 'payment:american_express', 'foot', 'isced', 'pedagogy', 'lgbtq', 'fee:conditional', 'payment:electronic_purses', 'beauty', 'board_type', 'shower', 'tents', 'shelter_type', 'hiking', 'artist:wikidata', 'authentication:membership_card', 'authentication:nfc', 'voltage', 'bench', 'bin', 'display', 'highway', 'lit', 'community_centre', 'armrest', 'mobile', 'ref:bag', 'operator:short', 'seasonal', 'note:url', 'motor_vehicle', 'faces', 'support', 'thermometer', 'visibility', 'recycling:pmd', 'social_facility:for', 'roof:shape', 'artwork_subject', 'type', 'studio', 'hgv', 'service:vehicle:car_repair', 'payment:app', 'panoramax', 'date', 'moped', 'amperage', 'beds', 'barometer', 'hygrometer', 'authentication:app', 'authentication:contactless', 'authentication:none', 'socket:type2_cable', 'socket:type2_cable:output', 'public_bookcase:type', 'recycling:glass_bottles:colour', 'maxstay:conditional', 'parking_space', 'orientation', 'post:city', 'post:housenumber', 'post:postcode', 'post:street', 'paving_stones:length', 'paving_stones:shape', 'paving_stones:width', 'area', 'building:part', 'source:geometry', 'pets_allowed', 'surface:colour']\n",
      "Len all tags: 1280, Len good tags: 263\n",
      "\n",
      " Returning (all_good_tags, tag2idx)\n",
      "X shape: (221808, 263)\n",
      "y_shape (221808, 263)\n"
     ]
    }
   ],
   "source": [
    "n_good_tags = 30 # Frequency of tags for them to be allowed\n",
    "n_per_instance = 2 # Amount of tags an instance needs to have to be part of the data\n",
    "\n",
    "good_tags, tag2idx = create_tag_lists(pois, n_good_tags)\n",
    "remove_bad_tags(good_tags, pois)\n",
    "X, Y = vector_pois(pois, tag2idx, n_per_instance)"
   ]
  },
  {
   "cell_type": "code",
   "execution_count": 10,
   "id": "06057ae4",
   "metadata": {},
   "outputs": [],
   "source": [
    "# !pip install tensorflow"
   ]
  },
  {
   "cell_type": "code",
   "execution_count": 11,
   "id": "25336167",
   "metadata": {},
   "outputs": [],
   "source": [
    "import tensorflow as tf\n",
    "import keras\n",
    "#from tensorflow.python import keras\n",
    "from keras import layers"
   ]
  },
  {
   "cell_type": "code",
   "execution_count": 12,
   "id": "415e4427",
   "metadata": {},
   "outputs": [
    {
     "name": "stdout",
     "output_type": "stream",
     "text": [
      "[0. 1. 0. 0. 0. 0. 0. 0. 0. 0. 0. 0. 0. 0. 0. 0. 0. 0. 0. 0. 0. 0. 0. 0.\n",
      " 0. 0. 0. 0. 0. 0. 0. 0. 0. 0. 0. 0. 0. 0. 0. 0. 0. 0. 0. 0. 0. 0. 0. 0.\n",
      " 0. 0. 0. 0. 0. 0. 0. 0. 0. 0. 0. 0. 0. 0. 0. 0. 0. 0. 0. 0. 0. 0. 0. 0.\n",
      " 0. 0. 0. 0. 0. 0. 0. 0. 0. 0. 0. 0. 0. 0. 0. 0. 0. 0. 0. 0. 0. 0. 0. 0.\n",
      " 0. 0. 0. 0. 0. 0. 0. 0. 0. 0. 0. 0. 0. 0. 0. 0. 0. 0. 0. 0. 0. 0. 0. 0.\n",
      " 0. 0. 0. 0. 0. 0. 0. 0. 0. 0. 0. 0. 0. 0. 0. 0. 0. 0. 0. 0. 0. 0. 0. 0.\n",
      " 0. 0. 0. 0. 0. 0. 0. 0. 0. 0. 0. 0. 0. 0. 0. 0. 0. 0. 0. 0. 0. 0. 0. 0.\n",
      " 0. 0. 0. 0. 0. 0. 0. 0. 0. 0. 0. 0. 0. 0. 0. 0. 0. 0. 0. 0. 0. 0. 0. 0.\n",
      " 0. 0. 0. 0. 0. 0. 0. 0. 0. 0. 0. 0. 0. 0. 0. 0. 0. 0. 0. 0. 0. 0. 0. 0.\n",
      " 0. 0. 0. 0. 0. 0. 0. 0. 0. 0. 0. 0. 0. 0. 0. 0. 0. 0. 0. 0. 0. 0. 0. 0.\n",
      " 0. 0. 0. 0. 0. 0. 0. 0. 0. 0. 0. 0. 0. 0. 0. 0. 0. 0. 0. 0. 0. 0. 0.] [1. 0. 0. 0. 0. 0. 0. 0. 0. 0. 0. 0. 0. 0. 0. 0. 0. 0. 0. 0. 0. 0. 0. 0.\n",
      " 0. 0. 0. 0. 0. 0. 0. 0. 0. 0. 0. 0. 0. 0. 0. 0. 0. 0. 0. 0. 0. 0. 0. 0.\n",
      " 0. 0. 0. 0. 0. 0. 0. 0. 0. 0. 0. 0. 0. 0. 0. 0. 0. 0. 0. 0. 0. 0. 0. 0.\n",
      " 0. 0. 0. 0. 0. 0. 0. 0. 0. 0. 0. 0. 0. 0. 0. 0. 0. 0. 0. 0. 0. 0. 0. 0.\n",
      " 0. 0. 0. 0. 0. 0. 0. 0. 0. 0. 0. 0. 0. 0. 0. 0. 0. 0. 0. 0. 0. 0. 0. 0.\n",
      " 0. 0. 0. 0. 0. 0. 0. 0. 0. 0. 0. 0. 0. 0. 0. 0. 0. 0. 0. 0. 0. 0. 0. 0.\n",
      " 0. 0. 0. 0. 0. 0. 0. 0. 0. 0. 0. 0. 0. 0. 0. 0. 0. 0. 0. 0. 0. 0. 0. 0.\n",
      " 0. 0. 0. 0. 0. 0. 0. 0. 0. 0. 0. 0. 0. 0. 0. 0. 0. 0. 0. 0. 0. 0. 0. 0.\n",
      " 0. 0. 0. 0. 0. 0. 0. 0. 0. 0. 0. 0. 0. 0. 0. 0. 0. 0. 0. 0. 0. 0. 0. 0.\n",
      " 0. 0. 0. 0. 0. 0. 0. 0. 0. 0. 0. 0. 0. 0. 0. 0. 0. 0. 0. 0. 0. 0. 0. 0.\n",
      " 0. 0. 0. 0. 0. 0. 0. 0. 0. 0. 0. 0. 0. 0. 0. 0. 0. 0. 0. 0. 0. 0. 0.]\n",
      "{'check_date': '2024-06-17', 'wheelchair': 'yes'}\n"
     ]
    }
   ],
   "source": [
    "print(X[1], Y[0])\n",
    "print(pois[\"tags\"][0])"
   ]
  },
  {
   "cell_type": "code",
   "execution_count": 13,
   "id": "2dad8c83",
   "metadata": {},
   "outputs": [],
   "source": [
    "from sklearn.model_selection import train_test_split"
   ]
  },
  {
   "cell_type": "code",
   "execution_count": 33,
   "id": "276c0055",
   "metadata": {},
   "outputs": [],
   "source": [
    "X_temp, X_test, y_temp, y_test = train_test_split(\n",
    "    X, Y, test_size = 0.2, random_state = 42)\n",
    "\n",
    "X_train, X_val, y_train, y_val = train_test_split(\n",
    "X_temp, y_temp, test_size = 0.2, random_state = 42 )"
   ]
  },
  {
   "cell_type": "code",
   "execution_count": 37,
   "id": "1c49f70e",
   "metadata": {},
   "outputs": [],
   "source": [
    "import numpy as np\n",
    "X_train = np.array(X_train)\n",
    "X_test = np.array(X_test)\n",
    "X_val = np.array(X_val)\n",
    "y_train = np.array(y_train)\n",
    "y_test = np.array(y_test)\n",
    "y_val =np.array(y_val)\n",
    "\n"
   ]
  },
  {
   "cell_type": "code",
   "execution_count": 38,
   "id": "9f88e640",
   "metadata": {},
   "outputs": [
    {
     "data": {
      "text/plain": [
       "(35490, 263)"
      ]
     },
     "execution_count": 38,
     "metadata": {},
     "output_type": "execute_result"
    }
   ],
   "source": [
    "#X_train.shape\n",
    "y_val.shape\n"
   ]
  },
  {
   "cell_type": "code",
   "execution_count": 18,
   "id": "db203af5",
   "metadata": {},
   "outputs": [],
   "source": [
    "def class_weight(y_train):\n",
    "    epislon = 1e-7\n",
    "    tag_counts = np.sum(y_train, axis = 0)\n",
    "    total_samples = y_train.shape[0]\n",
    "\n",
    "    tag_counts = np.where(tag_counts ==0, 1, tag_counts)\n",
    "    class_weights = total_samples / tag_counts\n",
    "    class_weights = class_weights / np.sum(class_weights)* len(class_weights)\n",
    "    return class_weights"
   ]
  },
  {
   "cell_type": "code",
   "execution_count": null,
   "id": "59b0e1bc",
   "metadata": {},
   "outputs": [],
   "source": [
    "def weighted_binary_crossentropy(class_weights):\n",
    "    class_weights = tf.constant(class_weights, dtype = tf.float32)\n",
    "    def loss_function(y_true,y_pred):\n",
    "        y_pred = tf.clip_by_value(y_pred, 1e-7, 1 - 1e-7)\n",
    "        loss = -(\n",
    "            class_weights * y_true * tf.math.log(y_pred)+ (\n",
    "                1 - y_true) * tf.math.log(1-y_pred)\n",
    "        )\n",
    "        return tf.reduce_mean(loss)\n",
    "    return loss_function\n",
    "\n",
    "weights = class_weight(y_train)"
   ]
  },
  {
   "cell_type": "code",
   "execution_count": 29,
   "id": "229844ae",
   "metadata": {},
   "outputs": [],
   "source": [
    "model= keras.Sequential([\n",
    "keras.layers.Input(shape = X_train[1].shape),\n",
    "layers.Dense(256, activation = \"relu\", name = \"Layer1\"),\n",
    "layers.Dropout(0.2),\n",
    "layers.Dense(128, activation = \"relu\", name = \"Layer2\"),\n",
    "# layers.Dense(64, activation = \"relu\",  name = \"Layer3\"),\n",
    "layers.Dense(y_train.shape[1], activation = \"sigmoid\", name = \"Layer4\")\n",
    "\n",
    "\n",
    "\n",
    "]\n",
    ")\n",
    "#model.compile(optimizer=tf.keras.optimizers.Adam(learning_rate=0.001), loss = tf.keras.losses.BinaryCrossentropy(from_logits= True), metrics = [\"binary_accuracy\"])\n",
    "loss_func = weighted_binary_crossentropy(weights)\n",
    "model.compile(optimizer=keras.optimizers.Adam(learning_rate=0.001),\n",
    "              loss=tf.keras.losses.BinaryFocalCrossentropy,\n",
    "            metrics=[\"accuracy\"])\n"
   ]
  },
  {
   "cell_type": "code",
   "execution_count": 30,
   "id": "761dbf76",
   "metadata": {},
   "outputs": [
    {
     "data": {
      "text/html": [
       "<pre style=\"white-space:pre;overflow-x:auto;line-height:normal;font-family:Menlo,'DejaVu Sans Mono',consolas,'Courier New',monospace\"><span style=\"font-weight: bold\">Model: \"sequential_2\"</span>\n",
       "</pre>\n"
      ],
      "text/plain": [
       "\u001b[1mModel: \"sequential_2\"\u001b[0m\n"
      ]
     },
     "metadata": {},
     "output_type": "display_data"
    },
    {
     "data": {
      "text/html": [
       "<pre style=\"white-space:pre;overflow-x:auto;line-height:normal;font-family:Menlo,'DejaVu Sans Mono',consolas,'Courier New',monospace\">┏━━━━━━━━━━━━━━━━━━━━━━━━━━━━━━━━━┳━━━━━━━━━━━━━━━━━━━━━━━━┳━━━━━━━━━━━━━━━┓\n",
       "┃<span style=\"font-weight: bold\"> Layer (type)                    </span>┃<span style=\"font-weight: bold\"> Output Shape           </span>┃<span style=\"font-weight: bold\">       Param # </span>┃\n",
       "┡━━━━━━━━━━━━━━━━━━━━━━━━━━━━━━━━━╇━━━━━━━━━━━━━━━━━━━━━━━━╇━━━━━━━━━━━━━━━┩\n",
       "│ Layer1 (<span style=\"color: #0087ff; text-decoration-color: #0087ff\">Dense</span>)                  │ (<span style=\"color: #00d7ff; text-decoration-color: #00d7ff\">None</span>, <span style=\"color: #00af00; text-decoration-color: #00af00\">256</span>)            │        <span style=\"color: #00af00; text-decoration-color: #00af00\">67,584</span> │\n",
       "├─────────────────────────────────┼────────────────────────┼───────────────┤\n",
       "│ dropout_2 (<span style=\"color: #0087ff; text-decoration-color: #0087ff\">Dropout</span>)             │ (<span style=\"color: #00d7ff; text-decoration-color: #00d7ff\">None</span>, <span style=\"color: #00af00; text-decoration-color: #00af00\">256</span>)            │             <span style=\"color: #00af00; text-decoration-color: #00af00\">0</span> │\n",
       "├─────────────────────────────────┼────────────────────────┼───────────────┤\n",
       "│ Layer2 (<span style=\"color: #0087ff; text-decoration-color: #0087ff\">Dense</span>)                  │ (<span style=\"color: #00d7ff; text-decoration-color: #00d7ff\">None</span>, <span style=\"color: #00af00; text-decoration-color: #00af00\">128</span>)            │        <span style=\"color: #00af00; text-decoration-color: #00af00\">32,896</span> │\n",
       "├─────────────────────────────────┼────────────────────────┼───────────────┤\n",
       "│ Layer4 (<span style=\"color: #0087ff; text-decoration-color: #0087ff\">Dense</span>)                  │ (<span style=\"color: #00d7ff; text-decoration-color: #00d7ff\">None</span>, <span style=\"color: #00af00; text-decoration-color: #00af00\">263</span>)            │        <span style=\"color: #00af00; text-decoration-color: #00af00\">33,927</span> │\n",
       "└─────────────────────────────────┴────────────────────────┴───────────────┘\n",
       "</pre>\n"
      ],
      "text/plain": [
       "┏━━━━━━━━━━━━━━━━━━━━━━━━━━━━━━━━━┳━━━━━━━━━━━━━━━━━━━━━━━━┳━━━━━━━━━━━━━━━┓\n",
       "┃\u001b[1m \u001b[0m\u001b[1mLayer (type)                   \u001b[0m\u001b[1m \u001b[0m┃\u001b[1m \u001b[0m\u001b[1mOutput Shape          \u001b[0m\u001b[1m \u001b[0m┃\u001b[1m \u001b[0m\u001b[1m      Param #\u001b[0m\u001b[1m \u001b[0m┃\n",
       "┡━━━━━━━━━━━━━━━━━━━━━━━━━━━━━━━━━╇━━━━━━━━━━━━━━━━━━━━━━━━╇━━━━━━━━━━━━━━━┩\n",
       "│ Layer1 (\u001b[38;5;33mDense\u001b[0m)                  │ (\u001b[38;5;45mNone\u001b[0m, \u001b[38;5;34m256\u001b[0m)            │        \u001b[38;5;34m67,584\u001b[0m │\n",
       "├─────────────────────────────────┼────────────────────────┼───────────────┤\n",
       "│ dropout_2 (\u001b[38;5;33mDropout\u001b[0m)             │ (\u001b[38;5;45mNone\u001b[0m, \u001b[38;5;34m256\u001b[0m)            │             \u001b[38;5;34m0\u001b[0m │\n",
       "├─────────────────────────────────┼────────────────────────┼───────────────┤\n",
       "│ Layer2 (\u001b[38;5;33mDense\u001b[0m)                  │ (\u001b[38;5;45mNone\u001b[0m, \u001b[38;5;34m128\u001b[0m)            │        \u001b[38;5;34m32,896\u001b[0m │\n",
       "├─────────────────────────────────┼────────────────────────┼───────────────┤\n",
       "│ Layer4 (\u001b[38;5;33mDense\u001b[0m)                  │ (\u001b[38;5;45mNone\u001b[0m, \u001b[38;5;34m263\u001b[0m)            │        \u001b[38;5;34m33,927\u001b[0m │\n",
       "└─────────────────────────────────┴────────────────────────┴───────────────┘\n"
      ]
     },
     "metadata": {},
     "output_type": "display_data"
    },
    {
     "data": {
      "text/html": [
       "<pre style=\"white-space:pre;overflow-x:auto;line-height:normal;font-family:Menlo,'DejaVu Sans Mono',consolas,'Courier New',monospace\"><span style=\"font-weight: bold\"> Total params: </span><span style=\"color: #00af00; text-decoration-color: #00af00\">134,407</span> (525.03 KB)\n",
       "</pre>\n"
      ],
      "text/plain": [
       "\u001b[1m Total params: \u001b[0m\u001b[38;5;34m134,407\u001b[0m (525.03 KB)\n"
      ]
     },
     "metadata": {},
     "output_type": "display_data"
    },
    {
     "data": {
      "text/html": [
       "<pre style=\"white-space:pre;overflow-x:auto;line-height:normal;font-family:Menlo,'DejaVu Sans Mono',consolas,'Courier New',monospace\"><span style=\"font-weight: bold\"> Trainable params: </span><span style=\"color: #00af00; text-decoration-color: #00af00\">134,407</span> (525.03 KB)\n",
       "</pre>\n"
      ],
      "text/plain": [
       "\u001b[1m Trainable params: \u001b[0m\u001b[38;5;34m134,407\u001b[0m (525.03 KB)\n"
      ]
     },
     "metadata": {},
     "output_type": "display_data"
    },
    {
     "data": {
      "text/html": [
       "<pre style=\"white-space:pre;overflow-x:auto;line-height:normal;font-family:Menlo,'DejaVu Sans Mono',consolas,'Courier New',monospace\"><span style=\"font-weight: bold\"> Non-trainable params: </span><span style=\"color: #00af00; text-decoration-color: #00af00\">0</span> (0.00 B)\n",
       "</pre>\n"
      ],
      "text/plain": [
       "\u001b[1m Non-trainable params: \u001b[0m\u001b[38;5;34m0\u001b[0m (0.00 B)\n"
      ]
     },
     "metadata": {},
     "output_type": "display_data"
    }
   ],
   "source": [
    "model.summary()"
   ]
  },
  {
   "cell_type": "code",
   "execution_count": 42,
   "id": "a1222b33",
   "metadata": {},
   "outputs": [
    {
     "name": "stdout",
     "output_type": "stream",
     "text": [
      "Epoch 1/10\n",
      "\u001b[1m4437/4437\u001b[0m \u001b[32m━━━━━━━━━━━━━━━━━━━━\u001b[0m\u001b[37m\u001b[0m \u001b[1m47s\u001b[0m 11ms/step - accuracy: 0.3906 - loss: 0.0032 - val_accuracy: 0.3631 - val_loss: 0.0034\n",
      "Epoch 2/10\n",
      "\u001b[1m4437/4437\u001b[0m \u001b[32m━━━━━━━━━━━━━━━━━━━━\u001b[0m\u001b[37m\u001b[0m \u001b[1m48s\u001b[0m 11ms/step - accuracy: 0.3951 - loss: 0.0032 - val_accuracy: 0.3687 - val_loss: 0.0034\n",
      "Epoch 3/10\n",
      "\u001b[1m4437/4437\u001b[0m \u001b[32m━━━━━━━━━━━━━━━━━━━━\u001b[0m\u001b[37m\u001b[0m \u001b[1m43s\u001b[0m 10ms/step - accuracy: 0.3951 - loss: 0.0032 - val_accuracy: 0.4061 - val_loss: 0.0034\n",
      "Epoch 4/10\n",
      "\u001b[1m4437/4437\u001b[0m \u001b[32m━━━━━━━━━━━━━━━━━━━━\u001b[0m\u001b[37m\u001b[0m \u001b[1m44s\u001b[0m 10ms/step - accuracy: 0.3990 - loss: 0.0032 - val_accuracy: 0.3625 - val_loss: 0.0034\n",
      "Epoch 5/10\n",
      "\u001b[1m4437/4437\u001b[0m \u001b[32m━━━━━━━━━━━━━━━━━━━━\u001b[0m\u001b[37m\u001b[0m \u001b[1m44s\u001b[0m 10ms/step - accuracy: 0.3939 - loss: 0.0032 - val_accuracy: 0.4247 - val_loss: 0.0035\n",
      "Epoch 6/10\n",
      "\u001b[1m4437/4437\u001b[0m \u001b[32m━━━━━━━━━━━━━━━━━━━━\u001b[0m\u001b[37m\u001b[0m \u001b[1m44s\u001b[0m 10ms/step - accuracy: 0.3913 - loss: 0.0032 - val_accuracy: 0.3712 - val_loss: 0.0034\n",
      "Epoch 7/10\n",
      "\u001b[1m4437/4437\u001b[0m \u001b[32m━━━━━━━━━━━━━━━━━━━━\u001b[0m\u001b[37m\u001b[0m \u001b[1m45s\u001b[0m 10ms/step - accuracy: 0.3911 - loss: 0.0032 - val_accuracy: 0.3734 - val_loss: 0.0035\n",
      "Epoch 8/10\n",
      "\u001b[1m4437/4437\u001b[0m \u001b[32m━━━━━━━━━━━━━━━━━━━━\u001b[0m\u001b[37m\u001b[0m \u001b[1m45s\u001b[0m 10ms/step - accuracy: 0.3980 - loss: 0.0032 - val_accuracy: 0.3537 - val_loss: 0.0034\n",
      "Epoch 9/10\n",
      "\u001b[1m4437/4437\u001b[0m \u001b[32m━━━━━━━━━━━━━━━━━━━━\u001b[0m\u001b[37m\u001b[0m \u001b[1m45s\u001b[0m 10ms/step - accuracy: 0.3986 - loss: 0.0032 - val_accuracy: 0.3701 - val_loss: 0.0035\n",
      "Epoch 10/10\n",
      "\u001b[1m4437/4437\u001b[0m \u001b[32m━━━━━━━━━━━━━━━━━━━━\u001b[0m\u001b[37m\u001b[0m \u001b[1m45s\u001b[0m 10ms/step - accuracy: 0.3907 - loss: 0.0032 - val_accuracy: 0.3741 - val_loss: 0.0035\n"
     ]
    },
    {
     "data": {
      "text/plain": [
       "<keras.src.callbacks.history.History at 0x1790815bb80>"
      ]
     },
     "execution_count": 42,
     "metadata": {},
     "output_type": "execute_result"
    }
   ],
   "source": [
    "model.fit(X_train, y_train, epochs = 10, batch_size =32, verbose = 1 , validation_data= (X_val, y_val))"
   ]
  },
  {
   "cell_type": "code",
   "execution_count": 52,
   "id": "f288c8bc",
   "metadata": {},
   "outputs": [
    {
     "name": "stdout",
     "output_type": "stream",
     "text": [
      "\u001b[1m1110/1110\u001b[0m \u001b[32m━━━━━━━━━━━━━━━━━━━━\u001b[0m\u001b[37m\u001b[0m \u001b[1m2s\u001b[0m 2ms/step\n"
     ]
    }
   ],
   "source": [
    "# customize threshold for each tags\n",
    "from sklearn.metrics import f1_score, precision_score, recall_score, multilabel_confusion_matrix\n",
    "#y_pred = model.predict(X_test)\n",
    "y_val_prob = model.predict(X_val)\n",
    "def find_best_threshold(y_true, y_probs, thresholds = np.arange(0.05, 0.95, 0.05)):\n",
    "    best_threshold = []\n",
    "    \n",
    "    for tag_idx in range(y_true.shape[1]):\n",
    "        best_thresh = 0.5\n",
    "        best_f1 = 0\n",
    "        for thresh in thresholds:\n",
    "            preds = (y_probs[:,tag_idx] >= thresh).astype(int)\n",
    "            f1 = f1_score(y_true[:, tag_idx], preds, zero_division= 0)\n",
    "            if f1 > best_f1:\n",
    "                best_f1 = f1\n",
    "                best_thresh = thresh\n",
    "        best_threshold.append(best_thresh)\n",
    "        \n",
    "    return best_threshold\n",
    "\n",
    "best_thresholds = find_best_threshold(y_val, y_val_prob)"
   ]
  },
  {
   "cell_type": "code",
   "execution_count": 53,
   "id": "4dc4f35c",
   "metadata": {},
   "outputs": [
    {
     "name": "stdout",
     "output_type": "stream",
     "text": [
      "\u001b[1m1387/1387\u001b[0m \u001b[32m━━━━━━━━━━━━━━━━━━━━\u001b[0m\u001b[37m\u001b[0m \u001b[1m3s\u001b[0m 2ms/step\n"
     ]
    }
   ],
   "source": [
    "def apply_thresholds(y_probs, thresholds):\n",
    "    return (y_probs >= thresholds).astype(int)\n",
    "y_test_probs = model.predict(X_test)\n",
    "\n",
    "y_test_pred = apply_thresholds(y_test_probs, best_thresholds)"
   ]
  },
  {
   "cell_type": "code",
   "execution_count": 54,
   "id": "42f93ce1",
   "metadata": {},
   "outputs": [
    {
     "name": "stdout",
     "output_type": "stream",
     "text": [
      "              precision    recall  f1-score   support\n",
      "\n",
      "           0       0.27      0.47      0.34      1646\n",
      "           1       0.44      0.50      0.47      2600\n",
      "           2       0.30      0.24      0.27       317\n",
      "           3       0.63      0.65      0.64      4694\n",
      "           4       0.79      0.60      0.68      1226\n",
      "           5       0.49      0.90      0.64      3855\n",
      "           6       0.65      0.49      0.56       487\n",
      "           7       0.55      0.59      0.57       332\n",
      "           8       0.51      0.63      0.56        63\n",
      "           9       0.24      0.30      0.27        54\n",
      "          10       0.93      0.81      0.87      2050\n",
      "          11       0.86      0.34      0.49        73\n",
      "          12       0.59      0.55      0.57       385\n",
      "          13       0.81      0.70      0.75      5844\n",
      "          14       0.01      0.86      0.01        14\n",
      "          15       0.34      0.27      0.30       355\n",
      "          16       0.61      0.41      0.49       369\n",
      "          17       0.87      0.47      0.61       446\n",
      "          18       0.97      0.92      0.94      1432\n",
      "          19       0.80      0.69      0.74       107\n",
      "          20       0.49      0.88      0.63       512\n",
      "          21       0.80      0.33      0.46       123\n",
      "          22       0.56      0.38      0.45       253\n",
      "          23       0.55      0.38      0.45       225\n",
      "          24       0.33      0.06      0.11        31\n",
      "          25       0.92      0.82      0.86      1995\n",
      "          26       0.12      0.13      0.12        23\n",
      "          27       0.87      0.50      0.63        40\n",
      "          28       0.76      0.69      0.72        36\n",
      "          29       0.62      0.50      0.56       252\n",
      "          30       0.77      0.51      0.61       131\n",
      "          31       0.89      0.66      0.76       102\n",
      "          32       0.88      0.55      0.67       102\n",
      "          33       0.22      0.35      0.27        20\n",
      "          34       0.52      0.38      0.44      1145\n",
      "          35       0.49      0.43      0.46        77\n",
      "          36       0.30      0.16      0.21       268\n",
      "          37       0.55      0.77      0.64       979\n",
      "          38       1.00      0.23      0.37        62\n",
      "          39       0.60      0.60      0.60       131\n",
      "          40       0.42      0.75      0.54        20\n",
      "          41       0.42      0.26      0.32        89\n",
      "          42       0.13      0.57      0.22       253\n",
      "          43       0.10      0.27      0.15       209\n",
      "          44       0.05      0.16      0.08       108\n",
      "          45       0.76      0.59      0.67       169\n",
      "          46       0.88      0.52      0.65        58\n",
      "          47       0.73      0.36      0.48       137\n",
      "          48       0.76      0.81      0.79        96\n",
      "          49       0.46      0.38      0.41        16\n",
      "          50       0.97      0.84      0.90        38\n",
      "          51       0.56      0.34      0.43        29\n",
      "          52       0.35      0.30      0.32       159\n",
      "          53       0.55      0.47      0.51       421\n",
      "          54       0.22      0.15      0.18        39\n",
      "          55       0.19      0.26      0.22       133\n",
      "          56       0.33      0.23      0.27       335\n",
      "          57       0.25      0.35      0.29        20\n",
      "          58       0.18      0.14      0.15       148\n",
      "          59       0.47      0.46      0.47       296\n",
      "          60       0.62      0.54      0.58       548\n",
      "          61       0.14      0.20      0.17       220\n",
      "          62       0.20      0.26      0.23        38\n",
      "          63       0.45      0.38      0.41        61\n",
      "          64       0.57      0.28      0.37       187\n",
      "          65       0.47      0.38      0.42       495\n",
      "          66       0.27      0.22      0.24       116\n",
      "          67       0.05      0.06      0.05        36\n",
      "          68       0.02      0.15      0.04        27\n",
      "          69       0.47      0.29      0.36        95\n",
      "          70       0.03      0.07      0.04        15\n",
      "          71       0.18      0.11      0.13        19\n",
      "          72       0.08      0.29      0.12        14\n",
      "          73       0.31      0.39      0.35       126\n",
      "          74       0.26      0.26      0.26        27\n",
      "          75       0.78      0.71      0.74       369\n",
      "          76       0.93      0.66      0.78       444\n",
      "          77       0.24      0.24      0.24        37\n",
      "          78       0.68      0.88      0.77      1697\n",
      "          79       0.25      0.07      0.11        14\n",
      "          80       0.85      0.76      0.80        37\n",
      "          81       0.65      0.79      0.71        33\n",
      "          82       0.85      0.74      0.79      6092\n",
      "          83       0.19      0.34      0.25        68\n",
      "          84       0.62      0.58      0.60        26\n",
      "          85       0.44      0.19      0.27       121\n",
      "          86       0.29      0.33      0.31        24\n",
      "          87       0.49      0.22      0.31        89\n",
      "          88       0.64      0.54      0.58       166\n",
      "          89       0.53      0.59      0.56       128\n",
      "          90       0.95      0.68      0.80       228\n",
      "          91       0.84      0.75      0.80        85\n",
      "          92       0.00      0.00      0.00        18\n",
      "          93       0.96      0.21      0.35       218\n",
      "          94       0.30      0.48      0.37       231\n",
      "          95       0.48      0.43      0.46        30\n",
      "          96       0.90      0.85      0.87        71\n",
      "          97       0.49      0.65      0.56       116\n",
      "          98       0.57      0.71      0.63       164\n",
      "          99       0.91      0.91      0.91        46\n",
      "         100       0.78      0.30      0.43       118\n",
      "         101       0.93      0.97      0.95       104\n",
      "         102       0.97      0.97      0.97       109\n",
      "         103       0.93      0.98      0.96       117\n",
      "         104       0.24      0.51      0.33       218\n",
      "         105       0.95      0.90      0.92        40\n",
      "         106       1.00      0.84      0.91        55\n",
      "         107       0.11      0.19      0.14        21\n",
      "         108       0.29      0.12      0.17        17\n",
      "         109       0.08      0.11      0.09         9\n",
      "         110       0.03      0.07      0.04        14\n",
      "         111       0.63      0.32      0.42       185\n",
      "         112       0.95      1.00      0.97        19\n",
      "         113       0.93      0.93      0.93        14\n",
      "         114       0.86      1.00      0.92        12\n",
      "         115       0.79      0.64      0.70       107\n",
      "         116       0.39      0.45      0.42        20\n",
      "         117       0.17      0.40      0.24        20\n",
      "         118       0.36      0.43      0.39       166\n",
      "         119       0.89      0.67      0.76        36\n",
      "         120       0.96      0.64      0.77        39\n",
      "         121       0.53      0.63      0.58        27\n",
      "         122       0.75      0.33      0.46       672\n",
      "         123       0.25      0.28      0.26        76\n",
      "         124       0.21      0.28      0.24        61\n",
      "         125       0.79      0.56      0.65        88\n",
      "         126       0.50      0.17      0.25        12\n",
      "         127       0.22      0.64      0.33       398\n",
      "         128       0.35      0.49      0.40        39\n",
      "         129       0.38      0.28      0.32        39\n",
      "         130       0.42      0.23      0.30       108\n",
      "         131       0.21      0.22      0.22        27\n",
      "         132       0.36      0.43      0.39       133\n",
      "         133       0.43      0.40      0.42       121\n",
      "         134       0.06      0.24      0.10        42\n",
      "         135       0.69      0.52      0.59       161\n",
      "         136       0.36      0.45      0.40        47\n",
      "         137       0.30      0.13      0.18        45\n",
      "         138       0.12      0.30      0.18        30\n",
      "         139       0.29      0.70      0.41        10\n",
      "         140       0.86      0.61      0.71        41\n",
      "         141       0.59      0.50      0.54        20\n",
      "         142       0.29      0.39      0.33       128\n",
      "         143       0.27      0.46      0.34       965\n",
      "         144       0.82      0.92      0.87      7044\n",
      "         145       0.92      0.94      0.93     11083\n",
      "         146       0.28      0.27      0.27        26\n",
      "         147       0.79      0.70      0.75        27\n",
      "         148       0.63      0.38      0.47        45\n",
      "         149       0.32      0.34      0.33       116\n",
      "         150       0.08      0.05      0.06        19\n",
      "         151       0.19      0.10      0.13        40\n",
      "         152       0.64      0.90      0.75      1433\n",
      "         153       0.18      0.62      0.28        55\n",
      "         154       0.12      0.46      0.20        93\n",
      "         155       0.70      0.42      0.52        84\n",
      "         156       0.79      0.52      0.62        97\n",
      "         157       0.87      0.87      0.87        23\n",
      "         158       0.95      0.84      0.89        25\n",
      "         159       0.85      0.88      0.86        25\n",
      "         160       0.93      0.93      0.93        28\n",
      "         161       0.57      0.48      0.52       155\n",
      "         162       0.43      0.29      0.34        21\n",
      "         163       0.81      0.33      0.47        39\n",
      "         164       0.94      0.91      0.92       200\n",
      "         165       0.02      0.14      0.04        37\n",
      "         166       0.32      0.42      0.37        83\n",
      "         167       0.00      0.00      0.00         8\n",
      "         168       0.46      0.56      0.51       130\n",
      "         169       0.63      0.45      0.52       193\n",
      "         170       0.22      0.25      0.24        32\n",
      "         171       0.33      0.31      0.32        48\n",
      "         172       0.92      0.61      0.73       166\n",
      "         173       0.00      0.00      0.00        12\n",
      "         174       0.33      0.04      0.06        28\n",
      "         175       0.29      0.23      0.26       179\n",
      "         176       0.04      0.11      0.05        35\n",
      "         177       0.65      0.57      0.61        35\n",
      "         178       0.50      0.13      0.21        23\n",
      "         179       0.33      0.44      0.38        34\n",
      "         180       0.50      0.25      0.33        20\n",
      "         181       0.38      0.74      0.50        23\n",
      "         182       0.06      0.09      0.07        23\n",
      "         183       0.80      0.40      0.53       488\n",
      "         184       0.67      0.18      0.29        11\n",
      "         185       0.12      0.21      0.15        19\n",
      "         186       0.00      0.00      0.00        23\n",
      "         187       0.90      0.97      0.93       188\n",
      "         188       0.15      0.12      0.14        16\n",
      "         189       0.00      0.00      0.00        31\n",
      "         190       0.09      0.23      0.13        56\n",
      "         191       0.26      0.21      0.23        29\n",
      "         192       0.22      0.09      0.13        22\n",
      "         193       0.90      0.91      0.90       143\n",
      "         194       0.68      0.24      0.35        55\n",
      "         195       0.18      0.25      0.21        12\n",
      "         196       0.06      0.04      0.05        23\n",
      "         197       0.31      0.60      0.41        25\n",
      "         198       0.00      0.00      0.00        39\n",
      "         199       0.17      0.21      0.19        29\n",
      "         200       0.67      0.57      0.62        14\n",
      "         201       0.60      0.75      0.67        16\n",
      "         202       0.91      0.73      0.81       126\n",
      "         203       0.92      0.44      0.59        78\n",
      "         204       0.08      0.23      0.12        26\n",
      "         205       0.61      0.77      0.68        30\n",
      "         206       0.92      0.48      0.63        25\n",
      "         207       0.91      0.66      0.76        64\n",
      "         208       0.62      0.85      0.72        93\n",
      "         209       0.89      0.24      0.37        72\n",
      "         210       0.91      0.96      0.93        50\n",
      "         211       0.19      0.10      0.13        50\n",
      "         212       0.48      0.73      0.58      1511\n",
      "         213       0.75      0.23      0.35        13\n",
      "         214       0.32      0.22      0.26        50\n",
      "         215       0.00      0.00      0.00        15\n",
      "         216       0.65      0.37      0.47       714\n",
      "         217       0.82      0.37      0.51        38\n",
      "         218       0.65      0.65      0.65        17\n",
      "         219       0.21      0.84      0.33        32\n",
      "         220       0.22      0.11      0.15        18\n",
      "         221       0.69      0.82      0.75        22\n",
      "         222       0.97      0.97      0.97        60\n",
      "         223       0.67      0.80      0.73        15\n",
      "         224       0.88      0.85      0.87        34\n",
      "         225       0.04      0.57      0.07        28\n",
      "         226       0.10      0.16      0.12        38\n",
      "         227       0.06      0.15      0.09        13\n",
      "         228       0.04      0.11      0.06        27\n",
      "         229       0.38      0.07      0.11        45\n",
      "         230       0.01      0.69      0.01        13\n",
      "         231       0.04      0.10      0.06        21\n",
      "         232       0.60      0.30      0.40        20\n",
      "         233       0.76      0.55      0.64        29\n",
      "         234       0.52      0.38      0.44        34\n",
      "         235       0.57      0.82      0.68        33\n",
      "         236       0.01      0.05      0.02        19\n",
      "         237       0.79      0.70      0.74        60\n",
      "         238       0.12      0.46      0.19        70\n",
      "         239       0.72      1.00      0.84        13\n",
      "         240       0.72      0.93      0.81        14\n",
      "         241       0.67      0.73      0.70        22\n",
      "         242       0.80      0.71      0.75        17\n",
      "         243       0.50      0.64      0.56        14\n",
      "         244       1.00      0.69      0.82        36\n",
      "         245       0.89      0.97      0.93        32\n",
      "         246       0.01      0.14      0.03        21\n",
      "         247       0.78      0.44      0.56        16\n",
      "         248       0.58      0.89      0.70      1463\n",
      "         249       0.86      0.88      0.87      7070\n",
      "         250       0.80      0.83      0.82      3791\n",
      "         251       1.00      1.00      1.00        18\n",
      "         252       1.00      1.00      1.00        20\n",
      "         253       1.00      1.00      1.00        11\n",
      "         254       1.00      1.00      1.00        16\n",
      "         255       1.00      0.79      0.88        29\n",
      "         256       1.00      0.79      0.88        28\n",
      "         257       0.67      0.95      0.78        19\n",
      "         258       0.05      0.17      0.08        48\n",
      "         259       0.15      0.23      0.18        22\n",
      "         260       0.08      0.12      0.09        17\n",
      "         261       0.79      0.70      0.74        69\n",
      "         262       0.04      0.93      0.08        68\n",
      "\n",
      "   micro avg       0.63      0.72      0.67     92438\n",
      "   macro avg       0.51      0.48      0.47     92438\n",
      "weighted avg       0.71      0.72      0.70     92438\n",
      " samples avg       0.61      0.68      0.63     92438\n",
      "\n"
     ]
    }
   ],
   "source": [
    "from sklearn.metrics import classification_report\n",
    "\n",
    "print(classification_report(y_test, y_test_pred, zero_division = 0))"
   ]
  },
  {
   "cell_type": "code",
   "execution_count": 55,
   "id": "2516d848",
   "metadata": {},
   "outputs": [
    {
     "name": "stdout",
     "output_type": "stream",
     "text": [
      "POI 0\n",
      "Predicted: ['studio']\n",
      "Actual   : ['cuisine']\n",
      "-----------\n",
      "POI 1\n",
      "Predicted: ['fee', 'access', 'surface']\n",
      "Actual   : ['fee', 'access', 'surface']\n",
      "-----------\n",
      "POI 2\n",
      "Predicted: ['operator:wikidata', 'operator:wikipedia']\n",
      "Actual   : ['operator:wikidata', 'operator:wikipedia']\n",
      "-----------\n",
      "POI 3\n",
      "Predicted: ['check_date', 'wheelchair', 'contact:instagram', 'ref:gers']\n",
      "Actual   : ['contact:instagram', 'cuisine']\n",
      "-----------\n",
      "POI 4\n",
      "Predicted: ['surface', 'lit', 'parking_space']\n",
      "Actual   : ['surface', 'lit', 'parking_space']\n",
      "-----------\n",
      "POI 5\n",
      "Predicted: ['source:date']\n",
      "Actual   : ['wheelchair']\n",
      "-----------\n",
      "POI 6\n",
      "Predicted: ['smoothness', 'parking_space']\n",
      "Actual   : ['smoothness', 'parking_space']\n",
      "-----------\n",
      "POI 7\n",
      "Predicted: ['operator:wikidata', 'recycling:glass_bottles', 'location', 'recycling:shoes']\n",
      "Actual   : ['wheelchair', 'recycling:shoes']\n",
      "-----------\n",
      "POI 8\n",
      "Predicted: ['smoothness', 'surface', 'parking_space']\n",
      "Actual   : ['smoothness', 'surface', 'parking_space']\n",
      "-----------\n",
      "POI 9\n",
      "Predicted: ['smoothness', 'surface']\n",
      "Actual   : ['smoothness', 'surface']\n",
      "-----------\n",
      "POI 10\n",
      "Predicted: ['entrance']\n",
      "Actual   : ['motorcar', 'socket:type2']\n",
      "-----------\n",
      "POI 11\n",
      "Predicted: ['material', 'backrest']\n",
      "Actual   : ['material', 'backrest']\n",
      "-----------\n",
      "POI 12\n",
      "Predicted: ['source:date', 'brand', 'brand:wikidata']\n",
      "Actual   : ['brand', 'brand:wikidata']\n",
      "-----------\n",
      "POI 13\n",
      "Predicted: ['studio']\n",
      "Actual   : ['wheelchair']\n",
      "-----------\n",
      "POI 14\n",
      "Predicted: ['waste', 'backrest']\n",
      "Actual   : ['backrest']\n",
      "-----------\n",
      "POI 15\n",
      "Predicted: ['fee', 'surface', 'orientation']\n",
      "Actual   : ['fee', 'covered']\n",
      "-----------\n",
      "POI 16\n",
      "Predicted: ['smoothness', 'surface', 'parking_space']\n",
      "Actual   : ['smoothness', 'surface', 'parking_space']\n",
      "-----------\n",
      "POI 17\n",
      "Predicted: ['smoothness', 'parking_space']\n",
      "Actual   : ['capacity', 'smoothness']\n",
      "-----------\n",
      "POI 18\n",
      "Predicted: ['covered']\n",
      "Actual   : ['smoothness', 'surface']\n",
      "-----------\n",
      "POI 19\n",
      "Predicted: ['smoothness', 'surface', 'parking_space']\n",
      "Actual   : ['smoothness', 'surface', 'parking_space']\n",
      "-----------\n"
     ]
    }
   ],
   "source": [
    "idx2tag = {i: tag for tag, i in tag2idx.items()}\n",
    "\n",
    "def vector_to_tags(binary_vec, idx2tag):\n",
    "    return [idx2tag[i] for i, val in enumerate(binary_vec) if val == 1]\n",
    "\n",
    "\n",
    "for i in range(20):  # check first 10 predictions\n",
    "    predicted_tags = vector_to_tags(y_test_pred[i], idx2tag)\n",
    "    actual_tags = vector_to_tags(y_test[i], idx2tag)\n",
    "    \n",
    "    print(f\"POI {i}\")\n",
    "    print(\"Predicted:\", predicted_tags)\n",
    "    print(\"Actual   :\", actual_tags)\n",
    "    print(\"-----------\")"
   ]
  },
  {
   "cell_type": "code",
   "execution_count": null,
   "id": "db184da9",
   "metadata": {},
   "outputs": [],
   "source": []
  }
 ],
 "metadata": {
  "kernelspec": {
   "display_name": "3.10.13",
   "language": "python",
   "name": "python3"
  },
  "language_info": {
   "codemirror_mode": {
    "name": "ipython",
    "version": 3
   },
   "file_extension": ".py",
   "mimetype": "text/x-python",
   "name": "python",
   "nbconvert_exporter": "python",
   "pygments_lexer": "ipython3",
   "version": "3.10.13"
  }
 },
 "nbformat": 4,
 "nbformat_minor": 5
}
